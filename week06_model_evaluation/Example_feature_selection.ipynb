{
 "cells": [
  {
   "cell_type": "markdown",
   "metadata": {},
   "source": [
    "# Topics in Cloud and Environment (2019)\n",
    "\n",
    "## Example: Feature Selection\n",
    "\n",
    "---\n",
    "\n",
    "The classes in the [`sklearn.feature_selection`](https://scikit-learn.org/stable/modules/classes.html#module-sklearn.feature_selection) module can be used for feature selection/dimensionality reduction on sample sets, either to improve estimators’ accuracy scores or to boost their performance on very high-dimensional datasets. For further details, please visit the [reference](https://scikit-learn.org/stable/modules/feature_selection.html).\n",
    "\n",
    "Take regression as example, feature selection can be done either forward or backward. The forward approach adds variables one-by-one, while the backward approach eliminate variables one by one.\n",
    "\n",
    "Here we are using the logistic regression as an example to work with a few feature selection methods.\n",
    "\n",
    "### Load data\n",
    "\n",
    "First, we use the 10-day sums of weather events as X, and the air-polution event as Y."
   ]
  },
  {
   "cell_type": "code",
   "execution_count": 1,
   "metadata": {},
   "outputs": [
    {
     "name": "stdout",
     "output_type": "stream",
     "text": [
      "Data dimension: \n",
      "(3652, 13)\n",
      "(3652,)\n",
      "Variables\n",
      "['CS', 'FT', 'NE', 'SNE', 'SWF', 'SSWF', 'TYW', 'TC100', 'TC200', 'TC300', 'TC500', 'TC1000', 'NWPTY']\n"
     ]
    }
   ],
   "source": [
    "# Load library\n",
    "%matplotlib inline\n",
    "import matplotlib.pyplot as plt\n",
    "import numpy as np\n",
    "import pandas as pd\n",
    "import time\n",
    "from sklearn.linear_model import LogisticRegression, LassoCV\n",
    "from sklearn.feature_selection import RFECV\n",
    "\n",
    "# Load data\n",
    "y = pd.read_csv('../data/ap_events_2005-2014.csv',  index_col=0)\n",
    "x = pd.read_csv('../data/weather_event_10day_sums_2005-2014.csv', index_col=0)"
   ]
  },
  {
   "cell_type": "markdown",
   "metadata": {},
   "source": [
    "### Model tuning work flow\n",
    "\n",
    "Earlier, we introduced a model tuning work flow, and now we use this example to demonstrate how to do it.\n",
    "\n",
    "<img src='figures/grid_search_workflow.png' width='400px'/>\n",
    "\n",
    "As shown in the figure, we first split our dataset into training set and test set. The tuning of model, e.g., model selection and feature selection, are executed with the CV on the training set. After the tuning process, a final model is trained with the full training set and then test against the test set. Thus, we can see the effects of different model tuning techniques."
   ]
  },
  {
   "cell_type": "code",
   "execution_count": 18,
   "metadata": {},
   "outputs": [
    {
     "name": "stdout",
     "output_type": "stream",
     "text": [
      "Data dimension: \n",
      "    Training set: \n",
      "(3287, 13)\n",
      "(3287,)\n",
      "    Test set: \n",
      "(365, 13)\n",
      "(365,)\n",
      "\n",
      "Variables:\n",
      "['CS', 'FT', 'NE', 'SNE', 'SWF', 'SSWF', 'TYW', 'TC100', 'TC200', 'TC300', 'TC500', 'TC1000', 'NWPTY']\n"
     ]
    }
   ],
   "source": [
    "# Split data into training and testing: 2005~2013 for training, and 2014 for testing\n",
    "x_test = np.array(x.iloc[3287:,:])\n",
    "y_test = np.array(y.iloc[3287:,:]).flatten()\n",
    "X = np.array(x.iloc[:3287,:])\n",
    "Y = np.array(y.iloc[:3287,:]).flatten()\n",
    "#\n",
    "print('Data dimension: ')\n",
    "print('    Training set: ')\n",
    "print(X.shape)\n",
    "print(Y.shape)\n",
    "print('    Test set: ')\n",
    "print(x_test.shape)\n",
    "print(y_test.shape)\n",
    "print()\n",
    "print('Variables:')\n",
    "print(list(x.columns))"
   ]
  },
  {
   "cell_type": "markdown",
   "metadata": {},
   "source": [
    "### Basic Logistic Regression\n",
    "\n",
    "Then, we use X to predict Y using logistic regression as shown in [earlier example](https://github.com/tingsyo/course_ce2019/blob/master/week04_generalized_linear_model/Generalized_Linear_Model.ipynb)."
   ]
  },
  {
   "cell_type": "code",
   "execution_count": 15,
   "metadata": {},
   "outputs": [
    {
     "name": "stdout",
     "output_type": "stream",
     "text": [
      "Prediction     0    1\n",
      "Truth                \n",
      "0           2271  183\n",
      "1            616  217\n",
      "\n",
      "              precision    recall  f1-score   support\n",
      "\n",
      "           0       0.79      0.93      0.85      2454\n",
      "           1       0.54      0.26      0.35       833\n",
      "\n",
      "    accuracy                           0.76      3287\n",
      "   macro avg       0.66      0.59      0.60      3287\n",
      "weighted avg       0.72      0.76      0.72      3287\n",
      "\n",
      "Optimization terminated successfully.\n",
      "         Current function value: 0.439306\n",
      "         Iterations 9\n"
     ]
    },
    {
     "data": {
      "text/html": [
       "<table class=\"simpletable\">\n",
       "<caption>Logit Regression Results</caption>\n",
       "<tr>\n",
       "  <th>Dep. Variable:</th>         <td>y</td>        <th>  No. Observations:  </th>   <td>  3287</td>  \n",
       "</tr>\n",
       "<tr>\n",
       "  <th>Model:</th>               <td>Logit</td>      <th>  Df Residuals:      </th>   <td>  3274</td>  \n",
       "</tr>\n",
       "<tr>\n",
       "  <th>Method:</th>               <td>MLE</td>       <th>  Df Model:          </th>   <td>    12</td>  \n",
       "</tr>\n",
       "<tr>\n",
       "  <th>Date:</th>          <td>Tue, 28 May 2019</td> <th>  Pseudo R-squ.:     </th>   <td>0.2239</td>  \n",
       "</tr>\n",
       "<tr>\n",
       "  <th>Time:</th>              <td>11:43:02</td>     <th>  Log-Likelihood:    </th>  <td> -1444.0</td> \n",
       "</tr>\n",
       "<tr>\n",
       "  <th>converged:</th>           <td>True</td>       <th>  LL-Null:           </th>  <td> -1860.7</td> \n",
       "</tr>\n",
       "<tr>\n",
       "  <th> </th>                      <td> </td>        <th>  LLR p-value:       </th> <td>1.187e-170</td>\n",
       "</tr>\n",
       "</table>\n",
       "<table class=\"simpletable\">\n",
       "<tr>\n",
       "   <td></td>      <th>coef</th>     <th>std err</th>      <th>z</th>      <th>P>|z|</th>  <th>[0.025</th>    <th>0.975]</th>  \n",
       "</tr>\n",
       "<tr>\n",
       "  <th>x1</th>  <td>   -0.0219</td> <td>    0.069</td> <td>   -0.317</td> <td> 0.751</td> <td>   -0.157</td> <td>    0.113</td>\n",
       "</tr>\n",
       "<tr>\n",
       "  <th>x2</th>  <td>   -0.1436</td> <td>    0.025</td> <td>   -5.840</td> <td> 0.000</td> <td>   -0.192</td> <td>   -0.095</td>\n",
       "</tr>\n",
       "<tr>\n",
       "  <th>x3</th>  <td>    0.1382</td> <td>    0.032</td> <td>    4.284</td> <td> 0.000</td> <td>    0.075</td> <td>    0.201</td>\n",
       "</tr>\n",
       "<tr>\n",
       "  <th>x4</th>  <td>   -0.1980</td> <td>    0.038</td> <td>   -5.181</td> <td> 0.000</td> <td>   -0.273</td> <td>   -0.123</td>\n",
       "</tr>\n",
       "<tr>\n",
       "  <th>x5</th>  <td>   -0.2811</td> <td>    0.045</td> <td>   -6.299</td> <td> 0.000</td> <td>   -0.369</td> <td>   -0.194</td>\n",
       "</tr>\n",
       "<tr>\n",
       "  <th>x6</th>  <td>   -0.4000</td> <td>    0.107</td> <td>   -3.721</td> <td> 0.000</td> <td>   -0.611</td> <td>   -0.189</td>\n",
       "</tr>\n",
       "<tr>\n",
       "  <th>x7</th>  <td>    0.0790</td> <td>    0.151</td> <td>    0.522</td> <td> 0.602</td> <td>   -0.218</td> <td>    0.376</td>\n",
       "</tr>\n",
       "<tr>\n",
       "  <th>x8</th>  <td>   -0.7937</td> <td>    0.311</td> <td>   -2.553</td> <td> 0.011</td> <td>   -1.403</td> <td>   -0.184</td>\n",
       "</tr>\n",
       "<tr>\n",
       "  <th>x9</th>  <td>    0.7395</td> <td>    0.290</td> <td>    2.548</td> <td> 0.011</td> <td>    0.171</td> <td>    1.308</td>\n",
       "</tr>\n",
       "<tr>\n",
       "  <th>x10</th> <td>    0.3192</td> <td>    0.255</td> <td>    1.252</td> <td> 0.211</td> <td>   -0.181</td> <td>    0.819</td>\n",
       "</tr>\n",
       "<tr>\n",
       "  <th>x11</th> <td>    0.0701</td> <td>    0.155</td> <td>    0.453</td> <td> 0.651</td> <td>   -0.233</td> <td>    0.373</td>\n",
       "</tr>\n",
       "<tr>\n",
       "  <th>x12</th> <td>   -0.3851</td> <td>    0.051</td> <td>   -7.507</td> <td> 0.000</td> <td>   -0.486</td> <td>   -0.285</td>\n",
       "</tr>\n",
       "<tr>\n",
       "  <th>x13</th> <td>   -0.0103</td> <td>    0.015</td> <td>   -0.704</td> <td> 0.481</td> <td>   -0.039</td> <td>    0.018</td>\n",
       "</tr>\n",
       "</table>"
      ],
      "text/plain": [
       "<class 'statsmodels.iolib.summary.Summary'>\n",
       "\"\"\"\n",
       "                           Logit Regression Results                           \n",
       "==============================================================================\n",
       "Dep. Variable:                      y   No. Observations:                 3287\n",
       "Model:                          Logit   Df Residuals:                     3274\n",
       "Method:                           MLE   Df Model:                           12\n",
       "Date:                Tue, 28 May 2019   Pseudo R-squ.:                  0.2239\n",
       "Time:                        11:43:02   Log-Likelihood:                -1444.0\n",
       "converged:                       True   LL-Null:                       -1860.7\n",
       "                                        LLR p-value:                1.187e-170\n",
       "==============================================================================\n",
       "                 coef    std err          z      P>|z|      [0.025      0.975]\n",
       "------------------------------------------------------------------------------\n",
       "x1            -0.0219      0.069     -0.317      0.751      -0.157       0.113\n",
       "x2            -0.1436      0.025     -5.840      0.000      -0.192      -0.095\n",
       "x3             0.1382      0.032      4.284      0.000       0.075       0.201\n",
       "x4            -0.1980      0.038     -5.181      0.000      -0.273      -0.123\n",
       "x5            -0.2811      0.045     -6.299      0.000      -0.369      -0.194\n",
       "x6            -0.4000      0.107     -3.721      0.000      -0.611      -0.189\n",
       "x7             0.0790      0.151      0.522      0.602      -0.218       0.376\n",
       "x8            -0.7937      0.311     -2.553      0.011      -1.403      -0.184\n",
       "x9             0.7395      0.290      2.548      0.011       0.171       1.308\n",
       "x10            0.3192      0.255      1.252      0.211      -0.181       0.819\n",
       "x11            0.0701      0.155      0.453      0.651      -0.233       0.373\n",
       "x12           -0.3851      0.051     -7.507      0.000      -0.486      -0.285\n",
       "x13           -0.0103      0.015     -0.704      0.481      -0.039       0.018\n",
       "==============================================================================\n",
       "\"\"\""
      ]
     },
     "execution_count": 15,
     "metadata": {},
     "output_type": "execute_result"
    }
   ],
   "source": [
    "import statsmodels.api as sm\n",
    "\n",
    "# Fit the classifier\n",
    "glm = LogisticRegression(C=1e5, solver='lbfgs', max_iter=500)\n",
    "glm.fit(X, Y)\n",
    "\n",
    "# Metrics function for reuse\n",
    "def evaluate_model(y_true, y_pred):\n",
    "    # Create confusion matrix\n",
    "    cfm = pd.crosstab(y_true, y_pred, rownames=['Truth'], colnames=['Prediction'])\n",
    "    # Create report\n",
    "    from sklearn.metrics import accuracy_score, classification_report\n",
    "    cr = classification_report(y_true, y_pred)\n",
    "    return({'matrix':cfm, 'report':cr})\n",
    "\n",
    "# Show results on training set\n",
    "yhat_glm = glm.predict(X)\n",
    "cfm = evaluate_model(Y, yhat_glm)\n",
    "print(cfm['matrix'])\n",
    "print()\n",
    "print(cfm['report'])\n",
    "\n",
    "# Comprehensive evaluation\n",
    "glmsm = sm.Logit(Y, X)\n",
    "glmsm.fit(maxiter=30).summary()\n"
   ]
  },
  {
   "cell_type": "code",
   "execution_count": 19,
   "metadata": {},
   "outputs": [
    {
     "name": "stdout",
     "output_type": "stream",
     "text": [
      "(365,)\n",
      "(365,)\n",
      "Prediction    0   1\n",
      "Truth              \n",
      "0           285  43\n",
      "1            25  12\n",
      "\n",
      "              precision    recall  f1-score   support\n",
      "\n",
      "           0       0.92      0.87      0.89       328\n",
      "           1       0.22      0.32      0.26        37\n",
      "\n",
      "    accuracy                           0.81       365\n",
      "   macro avg       0.57      0.60      0.58       365\n",
      "weighted avg       0.85      0.81      0.83       365\n",
      "\n"
     ]
    }
   ],
   "source": [
    "# Show results on test set\n",
    "yp_glm = glm.predict(x_test)\n",
    "print(yp_glm.shape)\n",
    "print(y_test.shape)\n",
    "ev_glm_test = evaluate_model(y_test, yp_glm)\n",
    "print(ev_glm_test['matrix'])\n",
    "print()\n",
    "print(ev_glm_test['report'])"
   ]
  },
  {
   "cell_type": "markdown",
   "metadata": {},
   "source": [
    "### Selec features based on GLM summary\n",
    "\n",
    "Next, let's see if we select features based on it's p-value in the GLM summary."
   ]
  },
  {
   "cell_type": "code",
   "execution_count": 21,
   "metadata": {},
   "outputs": [
    {
     "name": "stdout",
     "output_type": "stream",
     "text": [
      "(3287, 8)\n",
      "Prediction     0    1\n",
      "Truth                \n",
      "0           2296  158\n",
      "1            649  184\n",
      "\n",
      "              precision    recall  f1-score   support\n",
      "\n",
      "           0       0.78      0.94      0.85      2454\n",
      "           1       0.54      0.22      0.31       833\n",
      "\n",
      "    accuracy                           0.75      3287\n",
      "   macro avg       0.66      0.58      0.58      3287\n",
      "weighted avg       0.72      0.75      0.71      3287\n",
      "\n",
      "Prediction    0   1\n",
      "Truth              \n",
      "0           283  45\n",
      "1            28   9\n",
      "\n",
      "              precision    recall  f1-score   support\n",
      "\n",
      "           0       0.91      0.86      0.89       328\n",
      "           1       0.17      0.24      0.20        37\n",
      "\n",
      "    accuracy                           0.80       365\n",
      "   macro avg       0.54      0.55      0.54       365\n",
      "weighted avg       0.83      0.80      0.82       365\n",
      "\n"
     ]
    }
   ],
   "source": [
    "pv05 = [1,2,3,4,5,7,8,11]\n",
    "x_pv = X[:, pv05]\n",
    "x_test_pv = x_test[:, pv05]\n",
    "print(x_pv.shape)\n",
    "# Fit the classifier\n",
    "glm = LogisticRegression(C=1e5, solver='lbfgs', max_iter=500)\n",
    "glm.fit(x_pv, Y)\n",
    "\n",
    "# Show results on training data\n",
    "yhat = glm.predict(x_pv)\n",
    "cfm = evaluate_model(Y, yhat)\n",
    "print(cfm['matrix'])\n",
    "print()\n",
    "print(cfm['report'])\n",
    "\n",
    "# Show results on test data\n",
    "yhat = glm.predict(x_test_pv)\n",
    "cfm = evaluate_model(y_test, yhat)\n",
    "print(cfm['matrix'])\n",
    "print()\n",
    "print(cfm['report'])"
   ]
  },
  {
   "cell_type": "markdown",
   "metadata": {},
   "source": [
    "### Univariate feature selection\n",
    "\n",
    "Univariate feature selection works by selecting the best features based on univariate statistical tests. It can be seen as a preprocessing step to an estimator. Scikit-learn exposes feature selection routines as objects that implement the `transform` method:\n",
    "\n",
    "- [`SelectKBest`](https://scikit-learn.org/stable/modules/generated/sklearn.feature_selection.SelectKBest.html) removes all but the $k$ highest scoring features\n",
    "- [`SelectPercentile`](https://scikit-learn.org/stable/modules/generated/sklearn.feature_selection.SelectPercentile.html) removes all but a user-specified highest scoring percentage of features\n",
    "- using common univariate statistical tests for each feature: false positive rate [`SelectFpr`](https://scikit-learn.org/stable/modules/generated/sklearn.feature_selection.SelectFpr.html), false discovery rate [`SelectFdr`](https://scikit-learn.org/stable/modules/generated/sklearn.feature_selection.SelectFdr.html), or family wise error [`SelectFwe`](https://scikit-learn.org/stable/modules/generated/sklearn.feature_selection.SelectFwe.html).\n",
    "- [`GenericUnivariateSelect`](https://scikit-learn.org/stable/modules/generated/sklearn.feature_selection.GenericUnivariateSelect.html) allows to perform univariate feature selection with a configurable strategy. This allows to select the best univariate selection strategy with hyper-parameter search estimator.\n",
    "\n",
    "These objects take as input a scoring function that returns univariate scores and p-values:\n",
    "\n",
    "- For regression: [`f_regression`](https://scikit-learn.org/stable/modules/generated/sklearn.feature_selection.f_regression.html), [`mutual_info_regression`](https://scikit-learn.org/stable/modules/generated/sklearn.feature_selection.mutual_info_regression.html)\n",
    "- For classification: [`chi2`](https://scikit-learn.org/stable/modules/generated/sklearn.feature_selection.chi2.html), [`f_classif`](https://scikit-learn.org/stable/modules/generated/sklearn.feature_selection.f_classif.html), [`mutual_info_classif`](https://scikit-learn.org/stable/modules/generated/sklearn.feature_selection.mutual_info_classif.html)\n",
    "\n",
    "The methods based on F-test estimate the degree of linear dependency between two random variables. On the other hand, mutual information methods can capture any kind of statistical dependency, but being nonparametric, they require more samples for accurate estimation.\n",
    "\n",
    "In the following example, we use [`mutual information`](https://en.wikipedia.org/wiki/Mutual_information) to select top 60% of features. Please feel free to use a different selection method or scores and compare the results with the full-feature model above."
   ]
  },
  {
   "cell_type": "code",
   "execution_count": 25,
   "metadata": {},
   "outputs": [
    {
     "name": "stdout",
     "output_type": "stream",
     "text": [
      "(3287, 8)\n",
      "Prediction     0    1\n",
      "Truth                \n",
      "0           2289  165\n",
      "1            652  181\n",
      "\n",
      "              precision    recall  f1-score   support\n",
      "\n",
      "           0       0.78      0.93      0.85      2454\n",
      "           1       0.52      0.22      0.31       833\n",
      "\n",
      "    accuracy                           0.75      3287\n",
      "   macro avg       0.65      0.58      0.58      3287\n",
      "weighted avg       0.71      0.75      0.71      3287\n",
      "\n",
      "Prediction    0   1\n",
      "Truth              \n",
      "0           282  46\n",
      "1            28   9\n",
      "\n",
      "              precision    recall  f1-score   support\n",
      "\n",
      "           0       0.91      0.86      0.88       328\n",
      "           1       0.16      0.24      0.20        37\n",
      "\n",
      "    accuracy                           0.80       365\n",
      "   macro avg       0.54      0.55      0.54       365\n",
      "weighted avg       0.83      0.80      0.81       365\n",
      "\n"
     ]
    }
   ],
   "source": [
    "from sklearn.feature_selection import SelectKBest, SelectPercentile\n",
    "from sklearn.feature_selection import chi2, f_classif, mutual_info_classif\n",
    "\n",
    "sp = SelectPercentile(mutual_info_classif, percentile=60)\n",
    "sp.fit(X, Y)\n",
    "newx = sp.transform(X)\n",
    "print(newx.shape)\n",
    "\n",
    "# Fit the classifier\n",
    "glm = LogisticRegression(C=1e5, solver='lbfgs', max_iter=500)\n",
    "glm.fit(newx, Y)\n",
    "yhat = glm.predict(newx)\n",
    "\n",
    "# Show results on training data\n",
    "cfm = evaluate_model(Y, yhat)\n",
    "print(cfm['matrix'])\n",
    "print()\n",
    "print(cfm['report'])\n",
    "\n",
    "# Show results on test data\n",
    "newx_test = sp.transform(x_test)\n",
    "yhat = glm.predict(newx_test)\n",
    "cfm = evaluate_model(y_test, yhat)\n",
    "print(cfm['matrix'])\n",
    "print()\n",
    "print(cfm['report'])"
   ]
  },
  {
   "cell_type": "markdown",
   "metadata": {},
   "source": [
    "### Recursive feature elimination with cross-validation\n",
    "\n",
    "A recursive feature elimination example with automatic tuning of the number of features selected with cross-validation. We need to specify a [`scoing metric`](https://scikit-learn.org/stable/modules/model_evaluation.html#model-evaluation) for the automatic selection process. Here we simply use *accuracy* of the classification as the criteria.\n",
    "\n",
    "- [note] This example took ~3 seconds on an Intel i7-7920H CPU with 16GB system memory, so please expect to wait for a few seconds, it's normal."
   ]
  },
  {
   "cell_type": "code",
   "execution_count": 40,
   "metadata": {},
   "outputs": [
    {
     "name": "stdout",
     "output_type": "stream",
     "text": [
      "Optimal number of features : 6\n"
     ]
    },
    {
     "data": {
      "image/png": "[encoded data removed]",
      "text/plain": [
       "<Figure size 432x288 with 1 Axes>"
      ]
     },
     "metadata": {
      "needs_background": "light"
     },
     "output_type": "display_data"
    }
   ],
   "source": [
    "# Reference: https://scikit-learn.org/stable/auto_examples/feature_selection/plot_rfe_with_cross_validation.html\n",
    "from sklearn.model_selection import StratifiedKFold\n",
    "from sklearn.feature_selection import RFECV\n",
    "\n",
    "# Create the RFE object and compute a cross-validated score.\n",
    "glm = LogisticRegression(C=1e5, solver='lbfgs', max_iter=500)\n",
    "# The \"accuracy\" scoring is proportional to the number of correct classifications\n",
    "rfecv = RFECV(estimator=glm, step=1, cv=StratifiedKFold(5), scoring='brier_score_loss')\n",
    "rfecv.fit(X, Y)\n",
    "\n",
    "print(\"Optimal number of features : %d\" % rfecv.n_features_)\n",
    "\n",
    "# Plot number of features VS. cross-validation scores\n",
    "plt.figure()\n",
    "plt.xlabel(\"Number of features selected\")\n",
    "plt.ylabel(\"Cross validation score (nb of correct classifications)\")\n",
    "plt.plot(range(1, len(rfecv.grid_scores_) + 1), rfecv.grid_scores_)\n",
    "plt.show()"
   ]
  },
  {
   "cell_type": "markdown",
   "metadata": {},
   "source": [
    "As shown above, RFE with 10-fold CV suggested that we use 4 features, which are:"
   ]
  },
  {
   "cell_type": "code",
   "execution_count": 41,
   "metadata": {},
   "outputs": [
    {
     "name": "stdout",
     "output_type": "stream",
     "text": [
      "['SWF', 'SSWF', 'TC100', 'TC200', 'TC300', 'TC1000']\n"
     ]
    }
   ],
   "source": [
    "x_sel = list(x.columns[rfecv.support_])\n",
    "print(x_sel)"
   ]
  },
  {
   "cell_type": "markdown",
   "metadata": {},
   "source": [
    "If we look at the GLM model summary, the choice of RFE does not match with the selection by *p-value*. So, let's see the perfromance of using these 4 features only."
   ]
  },
  {
   "cell_type": "code",
   "execution_count": 42,
   "metadata": {},
   "outputs": [
    {
     "name": "stdout",
     "output_type": "stream",
     "text": [
      "(3287, 6)\n",
      "(365, 6)\n",
      "Prediction     0  1\n",
      "Truth              \n",
      "0           2450  4\n",
      "1            826  7\n",
      "\n",
      "              precision    recall  f1-score   support\n",
      "\n",
      "           0       0.75      1.00      0.86      2454\n",
      "           1       0.64      0.01      0.02       833\n",
      "\n",
      "    accuracy                           0.75      3287\n",
      "   macro avg       0.69      0.50      0.44      3287\n",
      "weighted avg       0.72      0.75      0.64      3287\n",
      "\n",
      "Prediction    0\n",
      "Truth          \n",
      "0           328\n",
      "1            37\n",
      "\n",
      "              precision    recall  f1-score   support\n",
      "\n",
      "           0       0.90      1.00      0.95       328\n",
      "           1       0.00      0.00      0.00        37\n",
      "\n",
      "    accuracy                           0.90       365\n",
      "   macro avg       0.45      0.50      0.47       365\n",
      "weighted avg       0.81      0.90      0.85       365\n",
      "\n"
     ]
    },
    {
     "name": "stderr",
     "output_type": "stream",
     "text": [
      "C:\\usr\\Anaconda3\\lib\\site-packages\\sklearn\\metrics\\classification.py:1437: UndefinedMetricWarning: Precision and F-score are ill-defined and being set to 0.0 in labels with no predicted samples.\n",
      "  'precision', 'predicted', average, warn_for)\n",
      "C:\\usr\\Anaconda3\\lib\\site-packages\\sklearn\\metrics\\classification.py:1437: UndefinedMetricWarning: Precision and F-score are ill-defined and being set to 0.0 in labels with no predicted samples.\n",
      "  'precision', 'predicted', average, warn_for)\n",
      "C:\\usr\\Anaconda3\\lib\\site-packages\\sklearn\\metrics\\classification.py:1437: UndefinedMetricWarning: Precision and F-score are ill-defined and being set to 0.0 in labels with no predicted samples.\n",
      "  'precision', 'predicted', average, warn_for)\n"
     ]
    }
   ],
   "source": [
    "x_rfe = np.array(x.loc[:,x_sel])[:3287,:]\n",
    "x_test_rfe = np.array(x.loc[:,x_sel])[3287:,:]\n",
    "print(x_rfe.shape)\n",
    "print(x_test_rfe.shape)\n",
    "# Fit the classifier\n",
    "glm = LogisticRegression(C=1e5, solver='lbfgs', max_iter=500)\n",
    "glm.fit(x_rfe, Y)\n",
    "yhat = glm.predict(x_rfe)\n",
    "\n",
    "# Show results on training set\n",
    "cfm = evaluate_model(Y, yhat)\n",
    "print(cfm['matrix'])\n",
    "print()\n",
    "print(cfm['report'])\n",
    "\n",
    "# Show results on test set\n",
    "yhat = glm.predict(x_test_rfe)\n",
    "cfm = evaluate_model(y_test, yhat)\n",
    "print(cfm['matrix'])\n",
    "print()\n",
    "print(cfm['report'])"
   ]
  },
  {
   "cell_type": "markdown",
   "metadata": {},
   "source": [
    "As shown in the example, the feature selection methods don't always work. This could be mainly caused by our choice of feature set (weather events) and model (logistic regression). We can achieve better results if we change our choice."
   ]
  },
  {
   "cell_type": "code",
   "execution_count": null,
   "metadata": {},
   "outputs": [],
   "source": []
  }
 ],
 "metadata": {
  "kernelspec": {
   "display_name": "Python 3",
   "language": "python",
   "name": "python3"
  },
  "language_info": {
   "codemirror_mode": {
    "name": "ipython",
    "version": 3
   },
   "file_extension": ".py",
   "mimetype": "text/x-python",
   "name": "python",
   "nbconvert_exporter": "python",
   "pygments_lexer": "ipython3",
   "version": "3.6.8"
  }
 },
 "nbformat": 4,
 "nbformat_minor": 2
}
