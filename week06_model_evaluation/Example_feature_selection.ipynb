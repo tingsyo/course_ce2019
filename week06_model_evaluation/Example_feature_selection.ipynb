{
 "cells": [
  {
   "cell_type": "markdown",
   "metadata": {},
   "source": [
    "# Topics in Cloud and Environment (2019)\n",
    "\n",
    "## Example: Feature Selection\n",
    "\n",
    "---\n",
    "\n",
    "The classes in the [`sklearn.feature_selection`](https://scikit-learn.org/stable/modules/classes.html#module-sklearn.feature_selection) module can be used for feature selection/dimensionality reduction on sample sets, either to improve estimators’ accuracy scores or to boost their performance on very high-dimensional datasets. For further details, please visit the [reference](https://scikit-learn.org/stable/modules/feature_selection.html).\n",
    "\n",
    "Take regression as example, feature selection can be done either forward or backward. The forward approach adds variables one-by-one, while the backward approach eliminate variables one by one.\n",
    "\n",
    "Here we are using the logistic regression as an example to work with a few feature selection methods.\n",
    "\n",
    "### Load data\n",
    "\n",
    "First, we use the 10-day sums of weather events as X, and the air-polution event as Y."
   ]
  },
  {
   "cell_type": "code",
   "execution_count": 1,
   "metadata": {},
   "outputs": [
    {
     "name": "stdout",
     "output_type": "stream",
     "text": [
      "Data dimension: \n",
      "(3652, 13)\n",
      "(3652,)\n",
      "Variables\n",
      "['CS', 'FT', 'NE', 'SNE', 'SWF', 'SSWF', 'TYW', 'TC100', 'TC200', 'TC300', 'TC500', 'TC1000', 'NWPTY']\n"
     ]
    }
   ],
   "source": [
    "# Load library\n",
    "%matplotlib inline\n",
    "import matplotlib.pyplot as plt\n",
    "import numpy as np\n",
    "import pandas as pd\n",
    "import time\n",
    "from sklearn.linear_model import LogisticRegression, LassoCV\n",
    "from sklearn.feature_selection import RFECV\n",
    "\n",
    "# Load data\n",
    "y = pd.read_csv('../data/ap_events_2005-2014.csv',  index_col=0)\n",
    "x = pd.read_csv('../data/weather_event_10day_sums_2005-2014.csv', index_col=0)\n",
    "X = np.array(x)\n",
    "Y = np.array(y).flatten()\n",
    "print('Data dimension: ')\n",
    "print(X.shape)\n",
    "print(Y.shape)\n",
    "print('Variables')\n",
    "print(list(x.columns))"
   ]
  },
  {
   "cell_type": "markdown",
   "metadata": {},
   "source": [
    "### Basic Logistic Regression\n",
    "\n",
    "Then, we use X to predict Y using logistic regression as shown in [earlier example](https://github.com/tingsyo/course_ce2019/blob/master/week04_generalized_linear_model/Generalized_Linear_Model.ipynb)."
   ]
  },
  {
   "cell_type": "code",
   "execution_count": 2,
   "metadata": {},
   "outputs": [
    {
     "name": "stdout",
     "output_type": "stream",
     "text": [
      "Prediction     0    1\n",
      "Truth                \n",
      "0           2685   97\n",
      "1            746  124\n",
      "\n",
      "              precision    recall  f1-score   support\n",
      "\n",
      "           0       0.78      0.97      0.86      2782\n",
      "           1       0.56      0.14      0.23       870\n",
      "\n",
      "   micro avg       0.77      0.77      0.77      3652\n",
      "   macro avg       0.67      0.55      0.55      3652\n",
      "weighted avg       0.73      0.77      0.71      3652\n",
      "\n",
      "Optimization terminated successfully.\n",
      "         Current function value: 0.430722\n",
      "         Iterations 9\n"
     ]
    },
    {
     "data": {
      "text/html": [
       "<table class=\"simpletable\">\n",
       "<caption>Logit Regression Results</caption>\n",
       "<tr>\n",
       "  <th>Dep. Variable:</th>         <td>y</td>        <th>  No. Observations:  </th>   <td>  3652</td>  \n",
       "</tr>\n",
       "<tr>\n",
       "  <th>Model:</th>               <td>Logit</td>      <th>  Df Residuals:      </th>   <td>  3639</td>  \n",
       "</tr>\n",
       "<tr>\n",
       "  <th>Method:</th>               <td>MLE</td>       <th>  Df Model:          </th>   <td>    12</td>  \n",
       "</tr>\n",
       "<tr>\n",
       "  <th>Date:</th>          <td>Mon, 27 May 2019</td> <th>  Pseudo R-squ.:     </th>   <td>0.2155</td>  \n",
       "</tr>\n",
       "<tr>\n",
       "  <th>Time:</th>              <td>17:17:22</td>     <th>  Log-Likelihood:    </th>  <td> -1573.0</td> \n",
       "</tr>\n",
       "<tr>\n",
       "  <th>converged:</th>           <td>True</td>       <th>  LL-Null:           </th>  <td> -2005.0</td> \n",
       "</tr>\n",
       "<tr>\n",
       "  <th> </th>                      <td> </td>        <th>  LLR p-value:       </th> <td>2.935e-177</td>\n",
       "</tr>\n",
       "</table>\n",
       "<table class=\"simpletable\">\n",
       "<tr>\n",
       "   <td></td>      <th>coef</th>     <th>std err</th>      <th>z</th>      <th>P>|z|</th>  <th>[0.025</th>    <th>0.975]</th>  \n",
       "</tr>\n",
       "<tr>\n",
       "  <th>x1</th>  <td>   -0.0319</td> <td>    0.067</td> <td>   -0.475</td> <td> 0.635</td> <td>   -0.164</td> <td>    0.100</td>\n",
       "</tr>\n",
       "<tr>\n",
       "  <th>x2</th>  <td>   -0.1573</td> <td>    0.024</td> <td>   -6.474</td> <td> 0.000</td> <td>   -0.205</td> <td>   -0.110</td>\n",
       "</tr>\n",
       "<tr>\n",
       "  <th>x3</th>  <td>    0.1157</td> <td>    0.031</td> <td>    3.705</td> <td> 0.000</td> <td>    0.054</td> <td>    0.177</td>\n",
       "</tr>\n",
       "<tr>\n",
       "  <th>x4</th>  <td>   -0.1716</td> <td>    0.037</td> <td>   -4.654</td> <td> 0.000</td> <td>   -0.244</td> <td>   -0.099</td>\n",
       "</tr>\n",
       "<tr>\n",
       "  <th>x5</th>  <td>   -0.2827</td> <td>    0.045</td> <td>   -6.311</td> <td> 0.000</td> <td>   -0.370</td> <td>   -0.195</td>\n",
       "</tr>\n",
       "<tr>\n",
       "  <th>x6</th>  <td>   -0.3947</td> <td>    0.107</td> <td>   -3.684</td> <td> 0.000</td> <td>   -0.605</td> <td>   -0.185</td>\n",
       "</tr>\n",
       "<tr>\n",
       "  <th>x7</th>  <td>    0.1172</td> <td>    0.152</td> <td>    0.771</td> <td> 0.441</td> <td>   -0.181</td> <td>    0.415</td>\n",
       "</tr>\n",
       "<tr>\n",
       "  <th>x8</th>  <td>   -0.7848</td> <td>    0.307</td> <td>   -2.558</td> <td> 0.011</td> <td>   -1.386</td> <td>   -0.183</td>\n",
       "</tr>\n",
       "<tr>\n",
       "  <th>x9</th>  <td>    0.7252</td> <td>    0.289</td> <td>    2.512</td> <td> 0.012</td> <td>    0.159</td> <td>    1.291</td>\n",
       "</tr>\n",
       "<tr>\n",
       "  <th>x10</th> <td>    0.2897</td> <td>    0.257</td> <td>    1.129</td> <td> 0.259</td> <td>   -0.213</td> <td>    0.793</td>\n",
       "</tr>\n",
       "<tr>\n",
       "  <th>x11</th> <td>    0.0595</td> <td>    0.153</td> <td>    0.387</td> <td> 0.698</td> <td>   -0.241</td> <td>    0.360</td>\n",
       "</tr>\n",
       "<tr>\n",
       "  <th>x12</th> <td>   -0.3517</td> <td>    0.050</td> <td>   -6.987</td> <td> 0.000</td> <td>   -0.450</td> <td>   -0.253</td>\n",
       "</tr>\n",
       "<tr>\n",
       "  <th>x13</th> <td>   -0.0347</td> <td>    0.014</td> <td>   -2.463</td> <td> 0.014</td> <td>   -0.062</td> <td>   -0.007</td>\n",
       "</tr>\n",
       "</table>"
      ],
      "text/plain": [
       "<class 'statsmodels.iolib.summary.Summary'>\n",
       "\"\"\"\n",
       "                           Logit Regression Results                           \n",
       "==============================================================================\n",
       "Dep. Variable:                      y   No. Observations:                 3652\n",
       "Model:                          Logit   Df Residuals:                     3639\n",
       "Method:                           MLE   Df Model:                           12\n",
       "Date:                Mon, 27 May 2019   Pseudo R-squ.:                  0.2155\n",
       "Time:                        17:17:22   Log-Likelihood:                -1573.0\n",
       "converged:                       True   LL-Null:                       -2005.0\n",
       "                                        LLR p-value:                2.935e-177\n",
       "==============================================================================\n",
       "                 coef    std err          z      P>|z|      [0.025      0.975]\n",
       "------------------------------------------------------------------------------\n",
       "x1            -0.0319      0.067     -0.475      0.635      -0.164       0.100\n",
       "x2            -0.1573      0.024     -6.474      0.000      -0.205      -0.110\n",
       "x3             0.1157      0.031      3.705      0.000       0.054       0.177\n",
       "x4            -0.1716      0.037     -4.654      0.000      -0.244      -0.099\n",
       "x5            -0.2827      0.045     -6.311      0.000      -0.370      -0.195\n",
       "x6            -0.3947      0.107     -3.684      0.000      -0.605      -0.185\n",
       "x7             0.1172      0.152      0.771      0.441      -0.181       0.415\n",
       "x8            -0.7848      0.307     -2.558      0.011      -1.386      -0.183\n",
       "x9             0.7252      0.289      2.512      0.012       0.159       1.291\n",
       "x10            0.2897      0.257      1.129      0.259      -0.213       0.793\n",
       "x11            0.0595      0.153      0.387      0.698      -0.241       0.360\n",
       "x12           -0.3517      0.050     -6.987      0.000      -0.450      -0.253\n",
       "x13           -0.0347      0.014     -2.463      0.014      -0.062      -0.007\n",
       "==============================================================================\n",
       "\"\"\""
      ]
     },
     "execution_count": 2,
     "metadata": {},
     "output_type": "execute_result"
    }
   ],
   "source": [
    "import statsmodels.api as sm\n",
    "\n",
    "# Fit the classifier\n",
    "glm = LogisticRegression(C=1e5, solver='lbfgs', max_iter=500)\n",
    "glm.fit(X, Y)\n",
    "yhat_glm = glm.predict(X)\n",
    "\n",
    "# Metrics function for reuse\n",
    "def evaluate_model(y_true, y_pred):\n",
    "    # Create confusion matrix\n",
    "    cfm = pd.crosstab(y_true, y_pred, rownames=['Truth'], colnames=['Prediction'])\n",
    "    # Create report\n",
    "    from sklearn.metrics import accuracy_score, classification_report\n",
    "    cr = classification_report(y_true, y_pred)\n",
    "    return({'matrix':cfm, 'report':cr})\n",
    "\n",
    "# Show results\n",
    "cfm = evaluate_model(Y, yhat_glm)\n",
    "print(cfm['matrix'])\n",
    "print()\n",
    "print(cfm['report'])\n",
    "\n",
    "# Comprehensive evaluation\n",
    "glmsm = sm.Logit(Y, X)\n",
    "glmsm.fit(maxiter=30).summary()"
   ]
  },
  {
   "cell_type": "markdown",
   "metadata": {},
   "source": [
    "### Selec features based on GLM summary\n",
    "\n",
    "Next, let's see if we select features based on it's p-value in the GLM summary."
   ]
  },
  {
   "cell_type": "code",
   "execution_count": 3,
   "metadata": {},
   "outputs": [
    {
     "name": "stdout",
     "output_type": "stream",
     "text": [
      "(3652, 8)\n",
      "Prediction     0   1\n",
      "Truth               \n",
      "0           2704  78\n",
      "1            776  94\n",
      "\n",
      "              precision    recall  f1-score   support\n",
      "\n",
      "           0       0.78      0.97      0.86      2782\n",
      "           1       0.55      0.11      0.18       870\n",
      "\n",
      "   micro avg       0.77      0.77      0.77      3652\n",
      "   macro avg       0.66      0.54      0.52      3652\n",
      "weighted avg       0.72      0.77      0.70      3652\n",
      "\n"
     ]
    }
   ],
   "source": [
    "pv05 = [1,2,3,4,5,7,8,11]\n",
    "x_pv = X[:, pv05]\n",
    "print(x_pv.shape)\n",
    "# Fit the classifier\n",
    "glm = LogisticRegression(C=1e5, solver='lbfgs', max_iter=500)\n",
    "glm.fit(x_pv, Y)\n",
    "yhat = glm.predict(x_pv)\n",
    "\n",
    "# Show results\n",
    "cfm = evaluate_model(Y, yhat)\n",
    "print(cfm['matrix'])\n",
    "print()\n",
    "print(cfm['report'])"
   ]
  },
  {
   "cell_type": "markdown",
   "metadata": {},
   "source": [
    "### Univariate feature selection\n",
    "\n",
    "Univariate feature selection works by selecting the best features based on univariate statistical tests. It can be seen as a preprocessing step to an estimator. Scikit-learn exposes feature selection routines as objects that implement the `transform` method:\n",
    "\n",
    "- [`SelectKBest`](https://scikit-learn.org/stable/modules/generated/sklearn.feature_selection.SelectKBest.html) removes all but the $k$ highest scoring features\n",
    "- [`SelectPercentile`](https://scikit-learn.org/stable/modules/generated/sklearn.feature_selection.SelectPercentile.html) removes all but a user-specified highest scoring percentage of features\n",
    "- using common univariate statistical tests for each feature: false positive rate [`SelectFpr`](https://scikit-learn.org/stable/modules/generated/sklearn.feature_selection.SelectFpr.html), false discovery rate [`SelectFdr`](https://scikit-learn.org/stable/modules/generated/sklearn.feature_selection.SelectFdr.html), or family wise error [`SelectFwe`](https://scikit-learn.org/stable/modules/generated/sklearn.feature_selection.SelectFwe.html).\n",
    "- [`GenericUnivariateSelect`](https://scikit-learn.org/stable/modules/generated/sklearn.feature_selection.GenericUnivariateSelect.html) allows to perform univariate feature selection with a configurable strategy. This allows to select the best univariate selection strategy with hyper-parameter search estimator.\n",
    "\n",
    "These objects take as input a scoring function that returns univariate scores and p-values:\n",
    "\n",
    "- For regression: [`f_regression`](https://scikit-learn.org/stable/modules/generated/sklearn.feature_selection.f_regression.html), [`mutual_info_regression`](https://scikit-learn.org/stable/modules/generated/sklearn.feature_selection.mutual_info_regression.html)\n",
    "- For classification: [`chi2`](https://scikit-learn.org/stable/modules/generated/sklearn.feature_selection.chi2.html), [`f_classif`](https://scikit-learn.org/stable/modules/generated/sklearn.feature_selection.f_classif.html), [`mutual_info_classif`](https://scikit-learn.org/stable/modules/generated/sklearn.feature_selection.mutual_info_classif.html)\n",
    "\n",
    "The methods based on F-test estimate the degree of linear dependency between two random variables. On the other hand, mutual information methods can capture any kind of statistical dependency, but being nonparametric, they require more samples for accurate estimation.\n",
    "\n",
    "In the following example, we use [`mutual information`](https://en.wikipedia.org/wiki/Mutual_information) to select top 60% of features. Please feel free to use a different selection method or scores and compare the results with the full-feature model above."
   ]
  },
  {
   "cell_type": "code",
   "execution_count": 4,
   "metadata": {},
   "outputs": [
    {
     "name": "stdout",
     "output_type": "stream",
     "text": [
      "(3652, 8)\n",
      "Prediction     0    1\n",
      "Truth                \n",
      "0           2684   98\n",
      "1            754  116\n",
      "\n",
      "              precision    recall  f1-score   support\n",
      "\n",
      "           0       0.78      0.96      0.86      2782\n",
      "           1       0.54      0.13      0.21       870\n",
      "\n",
      "   micro avg       0.77      0.77      0.77      3652\n",
      "   macro avg       0.66      0.55      0.54      3652\n",
      "weighted avg       0.72      0.77      0.71      3652\n",
      "\n"
     ]
    }
   ],
   "source": [
    "from sklearn.feature_selection import SelectKBest, SelectPercentile\n",
    "from sklearn.feature_selection import chi2, f_classif, mutual_info_classif\n",
    "\n",
    "newx = SelectPercentile(mutual_info_classif, percentile=60).fit_transform(X, Y)\n",
    "print(newx.shape)\n",
    "\n",
    "# Fit the classifier\n",
    "glm = LogisticRegression(C=1e5, solver='lbfgs', max_iter=500)\n",
    "glm.fit(newx, Y)\n",
    "yhat = glm.predict(newx)\n",
    "\n",
    "# Show results\n",
    "cfm = evaluate_model(Y, yhat)\n",
    "print(cfm['matrix'])\n",
    "print()\n",
    "print(cfm['report'])"
   ]
  },
  {
   "cell_type": "markdown",
   "metadata": {},
   "source": [
    "### Recursive feature elimination with cross-validation\n",
    "\n",
    "A recursive feature elimination example with automatic tuning of the number of features selected with cross-validation. We need to specify a [`scoing metric`](https://scikit-learn.org/stable/modules/model_evaluation.html#model-evaluation) for the automatic selection process. Here we simply use *accuracy* of the classification as the criteria.\n",
    "\n",
    "- [note] This example took ~3 seconds on an Intel i7-7920H CPU with 16GB system memory, so please expect to wait for a few seconds, it's normal."
   ]
  },
  {
   "cell_type": "code",
   "execution_count": 5,
   "metadata": {},
   "outputs": [
    {
     "name": "stdout",
     "output_type": "stream",
     "text": [
      "Optimal number of features : 4\n"
     ]
    },
    {
     "data": {
      "image/png": "[encoded data removed]",
      "text/plain": [
       "<Figure size 432x288 with 1 Axes>"
      ]
     },
     "metadata": {
      "needs_background": "light"
     },
     "output_type": "display_data"
    }
   ],
   "source": [
    "# Reference: https://scikit-learn.org/stable/auto_examples/feature_selection/plot_rfe_with_cross_validation.html\n",
    "from sklearn.model_selection import StratifiedKFold\n",
    "from sklearn.feature_selection import RFECV\n",
    "\n",
    "# Create the RFE object and compute a cross-validated score.\n",
    "glm = LogisticRegression(C=1e5, solver='lbfgs', max_iter=500)\n",
    "# The \"accuracy\" scoring is proportional to the number of correct classifications\n",
    "rfecv = RFECV(estimator=glm, step=1, cv=StratifiedKFold(10), scoring='accuracy')\n",
    "rfecv.fit(X, Y)\n",
    "\n",
    "print(\"Optimal number of features : %d\" % rfecv.n_features_)\n",
    "\n",
    "# Plot number of features VS. cross-validation scores\n",
    "plt.figure()\n",
    "plt.xlabel(\"Number of features selected\")\n",
    "plt.ylabel(\"Cross validation score (nb of correct classifications)\")\n",
    "plt.plot(range(1, len(rfecv.grid_scores_) + 1), rfecv.grid_scores_)\n",
    "plt.show()"
   ]
  },
  {
   "cell_type": "markdown",
   "metadata": {},
   "source": [
    "As shown above, RFE with 10-fold CV suggested that we use 4 features, which are:"
   ]
  },
  {
   "cell_type": "code",
   "execution_count": 6,
   "metadata": {},
   "outputs": [
    {
     "name": "stdout",
     "output_type": "stream",
     "text": [
      "['SSWF', 'TC100', 'TC200', 'TC300']\n"
     ]
    }
   ],
   "source": [
    "x_sel = list(x.columns[rfecv.support_])\n",
    "print(x_sel)"
   ]
  },
  {
   "cell_type": "markdown",
   "metadata": {},
   "source": [
    "If we look at the GLM model summary, the choice of RFE does not match with the selection by *p-value*. So, let's see the perfromance of using these 4 features only."
   ]
  },
  {
   "cell_type": "code",
   "execution_count": 7,
   "metadata": {},
   "outputs": [
    {
     "name": "stdout",
     "output_type": "stream",
     "text": [
      "(3652, 4)\n",
      "Prediction     0\n",
      "Truth           \n",
      "0           2782\n",
      "1            870\n",
      "\n",
      "              precision    recall  f1-score   support\n",
      "\n",
      "           0       0.76      1.00      0.86      2782\n",
      "           1       0.00      0.00      0.00       870\n",
      "\n",
      "   micro avg       0.76      0.76      0.76      3652\n",
      "   macro avg       0.38      0.50      0.43      3652\n",
      "weighted avg       0.58      0.76      0.66      3652\n",
      "\n"
     ]
    },
    {
     "name": "stderr",
     "output_type": "stream",
     "text": [
      "/Users/tsyo/anaconda/lib/python3.6/site-packages/sklearn/metrics/classification.py:1143: UndefinedMetricWarning: Precision and F-score are ill-defined and being set to 0.0 in labels with no predicted samples.\n",
      "  'precision', 'predicted', average, warn_for)\n",
      "/Users/tsyo/anaconda/lib/python3.6/site-packages/sklearn/metrics/classification.py:1143: UndefinedMetricWarning: Precision and F-score are ill-defined and being set to 0.0 in labels with no predicted samples.\n",
      "  'precision', 'predicted', average, warn_for)\n",
      "/Users/tsyo/anaconda/lib/python3.6/site-packages/sklearn/metrics/classification.py:1143: UndefinedMetricWarning: Precision and F-score are ill-defined and being set to 0.0 in labels with no predicted samples.\n",
      "  'precision', 'predicted', average, warn_for)\n"
     ]
    }
   ],
   "source": [
    "x_rfe = np.array(x.loc[:,x_sel])\n",
    "print(x_rfe.shape)\n",
    "# Fit the classifier\n",
    "glm = LogisticRegression(C=1e5, solver='lbfgs', max_iter=500)\n",
    "glm.fit(x_rfe, Y)\n",
    "yhat = glm.predict(x_rfe)\n",
    "\n",
    "# Show results\n",
    "cfm = evaluate_model(Y, yhat)\n",
    "print(cfm['matrix'])\n",
    "print()\n",
    "print(cfm['report'])"
   ]
  },
  {
   "cell_type": "markdown",
   "metadata": {},
   "source": [
    "As shown in the example, the feature selection methods don't always work. This could be mainly caused by our choice of feature set (weather events) and model (logistic regression). We can achieve better results if we change our choice."
   ]
  },
  {
   "cell_type": "code",
   "execution_count": null,
   "metadata": {},
   "outputs": [],
   "source": []
  }
 ],
 "metadata": {
  "kernelspec": {
   "display_name": "Python 3",
   "language": "python",
   "name": "python3"
  },
  "language_info": {
   "codemirror_mode": {
    "name": "ipython",
    "version": 3
   },
   "file_extension": ".py",
   "mimetype": "text/x-python",
   "name": "python",
   "nbconvert_exporter": "python",
   "pygments_lexer": "ipython3",
   "version": "3.6.8"
  }
 },
 "nbformat": 4,
 "nbformat_minor": 2
}
