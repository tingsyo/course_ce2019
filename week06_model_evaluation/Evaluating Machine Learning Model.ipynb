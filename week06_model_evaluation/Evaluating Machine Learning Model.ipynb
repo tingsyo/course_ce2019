{
 "cells": [
  {
   "cell_type": "code",
   "execution_count": 1,
   "metadata": {
    "slideshow": {
     "slide_type": "skip"
    }
   },
   "outputs": [],
   "source": [
    "%matplotlib inline\n",
    "\n",
    "import numpy as np\n",
    "import pandas as pd\n",
    "import scipy\n",
    "import matplotlib.pyplot as plt"
   ]
  },
  {
   "cell_type": "markdown",
   "metadata": {
    "slideshow": {
     "slide_type": "slide"
    }
   },
   "source": [
    "# Topics in Cloud and Environment (2019)\n",
    "\n",
    "## Week 06: Evaluating Statistical Models\n",
    "---\n",
    "\n",
    "So far we have introduced a few statistical (machine learning) models and some performance metrics. From working on the preactical projects, you must have discovered that there are so many aspects of a statistical model that it's hard to compare between different models, as well as the choice of hyper-parameters among a family of model.\n",
    "\n",
    "In this module, we are going to discuss a few aspects of how to evaluate statistical models. We will start from some commonly used performance metrics, estimating the performance on future data, and some meta framework for model evaluation."
   ]
  },
  {
   "cell_type": "markdown",
   "metadata": {
    "slideshow": {
     "slide_type": "slide"
    }
   },
   "source": [
    "# Outline\n",
    "---\n",
    "\n",
    "- What do Statistical Models Do\n",
    "- Performance metrics\n",
    "- Errors, in and out of sample \n",
    "- Bias-Variance Tradeoff\n",
    "- Overfitting and model selection\n",
    "- Cross-validation\n",
    "\n"
   ]
  },
  {
   "cell_type": "markdown",
   "metadata": {
    "slideshow": {
     "slide_type": "slide"
    }
   },
   "source": [
    "# What do Statistical Models Do?\n",
    "\n",
    "There are (at least) three levels at which we can use statistical models in data analysis: \n",
    "\n",
    "- as *summaries of the data*, \n",
    "- as *predictors*, and \n",
    "- as *simulators*. "
   ]
  },
  {
   "cell_type": "markdown",
   "metadata": {
    "slideshow": {
     "slide_type": "slide"
    }
   },
   "source": [
    "# Data Summarization\n",
    "\n",
    "Like most descriptive statistics, a statistical model can summarize the data with a set of *parameters*. This can be the lowest and least demanding level usage of a statistical model, which is for **data reduction**, or **compression**. Instead of remembering all the data points on a scatter-plot, say, we’d just remember what the mean and variance of them.\n",
    "\n",
    "The summary can be in the form of a theoretical distribution (*parametric*) or empirical functions(*non-parametric*)."
   ]
  },
  {
   "cell_type": "code",
   "execution_count": 2,
   "metadata": {
    "slideshow": {
     "slide_type": "skip"
    }
   },
   "outputs": [],
   "source": [
    "# Generate dataset\n",
    "data = np.random.normal(100, 15, 500)\n",
    "# Calculate statistics\n",
    "mu = data.mean()\n",
    "sigma = data.std()\n",
    "# Calculate PDF from data\n",
    "x = np.linspace(mu - 3*sigma, mu + 3*sigma, 50)\n",
    "h = np.histogram(data, bins=x)\n",
    "# Plot\n",
    "#print(mu)\n",
    "#print(sigma)"
   ]
  },
  {
   "cell_type": "code",
   "execution_count": 3,
   "metadata": {
    "slideshow": {
     "slide_type": "subslide"
    }
   },
   "outputs": [
    {
     "data": {
      "image/png": "[encoded data removed]",
      "text/plain": [
       "<Figure size 432x288 with 1 Axes>"
      ]
     },
     "metadata": {
      "needs_background": "light"
     },
     "output_type": "display_data"
    }
   ],
   "source": [
    "fig, ax = plt.subplots()\n",
    "n, hx, patches = ax.hist(data, bins=x, density=1)\n",
    "# Calculate PDF from Gaussian distribution\n",
    "import scipy.stats as stats\n",
    "y = stats.norm.pdf(hx, mu, sigma)\n",
    "ax.plot(hx, y, '--')\n",
    "plt.tight_layout()\n",
    "plt.show()"
   ]
  },
  {
   "cell_type": "markdown",
   "metadata": {
    "slideshow": {
     "slide_type": "slide"
    }
   },
   "source": [
    "# Prediction\n",
    "\n",
    "The most well-known usage of machine learning models is **using statistical models for prediction**. Once we formed the knowledge of the joint distribution of our data, we can predict variables described by the model.\n",
    "\n",
    "Most **evaluation** techniques are designed based on the performance of predictions. \n",
    "\n"
   ]
  },
  {
   "cell_type": "markdown",
   "metadata": {
    "slideshow": {
     "slide_type": "slide"
    }
   },
   "source": [
    "# Simulation\n",
    "\n",
    "Once the parameters of the statistical models are learned from the data, we can use the model to *generate / simulate* new data. If we train our model with the *Bayesian* approach, then *simulation* is inluded in the learning process. Due to the success of deep convolutional neural network, the generative statistical models are now widely applied to generate digital contents, such as [GPT-2](https://openai.com/blog/better-language-models/), [MuseNet](https://openai.com/blog/musenet/), and [Deepfake](https://en.wikipedia.org/wiki/Deepfake).\n",
    "\n",
    "<img src=\"https://cdn.vox-cdn.com/thumbor/nKhCSXmFymvUPS8Rf1NuMcSFAZQ=/800x0/filters:no_upscale()/cdn.vox-cdn.com/uploads/chorus_asset/file/16226452/dali.gif\" height=\"200\"/>"
   ]
  },
  {
   "cell_type": "markdown",
   "metadata": {
    "slideshow": {
     "slide_type": "slide"
    }
   },
   "source": [
    "# Common Performance Metrics for Classification\n",
    "\n",
    "- Confusion matrix\n",
    "  - Accuracy\n",
    "  - Precision\n",
    "  - Recall\n",
    "  - Specificity\n",
    "  - F1 score\n",
    "- Precision-Recall or PR curve\n",
    "- ROC (Receiver Operating Characteristics) curve\n",
    "- PR vs ROC curve.\n"
   ]
  },
  {
   "cell_type": "markdown",
   "metadata": {
    "slideshow": {
     "slide_type": "slide"
    }
   },
   "source": [
    "# Confusion Matrix\n",
    "\n",
    "In statistical classification, a confusion matrix, also known as an error matrix, is a specific table layout that allows visualization of the performance of an algorithm, typically a supervised learning one.\n",
    "\n",
    "<img src='figures/confusion_matrix.png' />\n",
    "\n",
    "Many metrics can be derived from this confusion metrics, and [the wikipedia entry](https://en.wikipedia.org/wiki/Confusion_matrix) has a complete list of them."
   ]
  },
  {
   "cell_type": "markdown",
   "metadata": {
    "slideshow": {
     "slide_type": "slide"
    }
   },
   "source": [
    "# Accuracy, Precision, Recall, and F-1\n",
    "\n",
    "- **Accuracy**: the probability of being correct. \n",
    "  - $\\frac{TP+TN}{TP+FP+TN+FN}$\n",
    "\n",
    "- **Precision**: the probability of being correct when predicting true. \n",
    "  - $\\frac{TP+}{TP+FP}$\n",
    "  - PPV (Positive Predictive Value)\n",
    "\n",
    "- **Recall**: the probability of being correct when actually true. \n",
    "  - $\\frac{TP+}{TP+FN}$\n",
    "  - Sensitivity, TPR (True Positive Rate)\n",
    "\n",
    "- **F-1 socre**: the harmonic mean of **precision** and **recall**, a balanced measure.\n",
    "  - $\\frac{2}{\\frac{1}{precision} + \\frac{1}{recall}} = \\frac{2*precision*recall}{precision+recall}$\n"
   ]
  },
  {
   "cell_type": "markdown",
   "metadata": {
    "slideshow": {
     "slide_type": "slide"
    }
   },
   "source": [
    "# PR (Precision-Recall) Curve\n",
    "\n",
    "<img src='figures/pr_curve.png' />"
   ]
  },
  {
   "cell_type": "markdown",
   "metadata": {
    "slideshow": {
     "slide_type": "slide"
    }
   },
   "source": [
    "# ROC  (Receiver Operating Characteristics) Curve\n",
    "\n",
    "A receiver operating characteristic curve, or ROC curve, is a graphical plot that illustrates the diagnostic ability of a binary classifier system as its discrimination threshold is varied.\n",
    "\n",
    "<img src='figures/roc_curve.png' />"
   ]
  },
  {
   "cell_type": "markdown",
   "metadata": {
    "slideshow": {
     "slide_type": "slide"
    }
   },
   "source": [
    "# Metrics for Regression problems\n",
    "\n",
    "- **RMSE** (Root Mean Squared Error)\n",
    "  - $\\sqrt{\\frac{1}{n} \\sum{(y_i - \\hat y_i)^2}}$\n",
    "\n",
    "\n",
    "\n",
    "- **MAE** (Mean Absolute Error)\n",
    "  - $\\frac{1}{n} \\sum{|y_i - \\hat y_i|}$\n",
    "\n",
    "\n",
    "\n",
    "- $R^2$, Coefficient of determination, Explained Variance\n",
    "  - $1 - SS_{res} / SS_{tot}= 1 - \\sum{(y_i - \\hat y_i)^2} / \\sum{(y_i - \\bar y)^2}$\n",
    "\n"
   ]
  },
  {
   "cell_type": "markdown",
   "metadata": {
    "slideshow": {
     "slide_type": "slide"
    }
   },
   "source": [
    "# Deriving Performance Metrics in Practice\n",
    "\n",
    "The package [`scikit-learn`](https://scikit-learn.org/stable/modules/model_evaluation.html) provides a thourough list of performance metrics, so that it's rather easy to use in practice. Let's see some examples."
   ]
  },
  {
   "cell_type": "code",
   "execution_count": 4,
   "metadata": {
    "slideshow": {
     "slide_type": "subslide"
    }
   },
   "outputs": [
    {
     "data": {
      "text/plain": [
       "array([[472,  50],\n",
       "       [ 45, 433]])"
      ]
     },
     "execution_count": 4,
     "metadata": {},
     "output_type": "execute_result"
    }
   ],
   "source": [
    "# Create data\n",
    "y_true = np.random.randint(0,2,size=1000)\n",
    "y_pred = np.copy(y_true)\n",
    "# Sample 10% of data to flip\n",
    "idx_flip = np.random.choice(range(len(y_true)), size=100)\n",
    "y_pred[idx_flip] = np.abs(y_true[idx_flip]-1)\n",
    "y2 = np.copy(y_pred)\n",
    "idx_flip1 = np.random.choice(range(len(y_true)), size=200)\n",
    "y2[idx_flip1] = np.abs(y_pred[idx_flip1]-1)\n",
    "y3 = np.copy(y2)\n",
    "idx_flip2 = np.random.choice(range(len(y_true)), size=300)\n",
    "y3[idx_flip2] = np.abs(y2[idx_flip2]-1)\n",
    "#print(idx_flip)\n",
    "#print(y_true)\n",
    "#print(y_pred)\n",
    "# Create confusion matrix\n",
    "from sklearn.metrics import confusion_matrix\n",
    "confusion_matrix(y_true, y_pred)"
   ]
  },
  {
   "cell_type": "code",
   "execution_count": 5,
   "metadata": {
    "slideshow": {
     "slide_type": "notes"
    }
   },
   "outputs": [],
   "source": [
    "from sklearn.utils.multiclass import unique_labels\n",
    "def plot_confusion_matrix(y_true, y_pred,\n",
    "                          normalize=False,\n",
    "                          title=None,\n",
    "                          cmap=plt.cm.Blues):\n",
    "    \"\"\"\n",
    "    This function prints and plots the confusion matrix.\n",
    "    Normalization can be applied by setting `normalize=True`.\n",
    "    \"\"\"\n",
    "    if not title:\n",
    "        if normalize:\n",
    "            title = 'Normalized confusion matrix'\n",
    "        else:\n",
    "            title = 'Confusion matrix, without normalization'\n",
    "\n",
    "    # Compute confusion matrix\n",
    "    cm = confusion_matrix(y_true, y_pred)\n",
    "    # Only use the labels that appear in the data\n",
    "    classes = unique_labels(y_true, y_pred)\n",
    "    if normalize:\n",
    "        cm = cm.astype('float') / cm.sum(axis=1)[:, np.newaxis]\n",
    "        print(\"Normalized confusion matrix\")\n",
    "    else:\n",
    "        print('Confusion matrix, without normalization')\n",
    "\n",
    "    print(cm)\n",
    "\n",
    "    fig, ax = plt.subplots()\n",
    "    im = ax.imshow(cm, interpolation='nearest', cmap=cmap)\n",
    "    ax.figure.colorbar(im, ax=ax)\n",
    "    # We want to show all ticks...\n",
    "    ax.set(xticks=np.arange(cm.shape[1]),\n",
    "           yticks=np.arange(cm.shape[0]),\n",
    "           # ... and label them with the respective list entries\n",
    "           xticklabels=classes, yticklabels=classes,\n",
    "           title=title,\n",
    "           ylabel='True label',\n",
    "           xlabel='Predicted label')\n",
    "\n",
    "    # Rotate the tick labels and set their alignment.\n",
    "    plt.setp(ax.get_xticklabels(), rotation=45, ha=\"right\",\n",
    "             rotation_mode=\"anchor\")\n",
    "\n",
    "    # Loop over data dimensions and create text annotations.\n",
    "    fmt = '.2f' if normalize else 'd'\n",
    "    thresh = cm.max() / 2.\n",
    "    for i in range(cm.shape[0]):\n",
    "        for j in range(cm.shape[1]):\n",
    "            ax.text(j, i, format(cm[i, j], fmt),\n",
    "                    ha=\"center\", va=\"center\",\n",
    "                    color=\"white\" if cm[i, j] > thresh else \"black\")\n",
    "    fig.tight_layout()\n",
    "    return ax"
   ]
  },
  {
   "cell_type": "code",
   "execution_count": 6,
   "metadata": {
    "slideshow": {
     "slide_type": "subslide"
    }
   },
   "outputs": [
    {
     "name": "stdout",
     "output_type": "stream",
     "text": [
      "Confusion matrix, without normalization\n",
      "[[472  50]\n",
      " [ 45 433]]\n"
     ]
    },
    {
     "data": {
      "image/png": "[encoded data removed]",
      "text/plain": [
       "<Figure size 432x288 with 2 Axes>"
      ]
     },
     "metadata": {
      "needs_background": "light"
     },
     "output_type": "display_data"
    },
    {
     "name": "stdout",
     "output_type": "stream",
     "text": [
      " Accuracy: 0.905\n",
      " Precision: 0.8964803312629399\n",
      " Recall: 0.9058577405857741\n",
      " F1 score: 0.9011446409989594\n"
     ]
    }
   ],
   "source": [
    "plot_confusion_matrix(y_true, y_pred)\n",
    "plt.show()\n",
    "from sklearn.metrics import accuracy_score, precision_score, recall_score, f1_score\n",
    "print(' Accuracy: '+ str(accuracy_score(y_true, y_pred)))\n",
    "print(' Precision: ' + str(precision_score(y_true, y_pred)))\n",
    "print(' Recall: ' + str(recall_score(y_true, y_pred)))\n",
    "print(' F1 score: ' + str(f1_score(y_true, y_pred)))"
   ]
  },
  {
   "cell_type": "code",
   "execution_count": 7,
   "metadata": {
    "slideshow": {
     "slide_type": "subslide"
    }
   },
   "outputs": [
    {
     "name": "stdout",
     "output_type": "stream",
     "text": [
      "[0.         0.09578544 1.        ]\n",
      "[0.         0.90585774 1.        ]\n",
      "[2 1 0]\n",
      "0.9050361499863737\n"
     ]
    },
    {
     "data": {
      "image/png": "[encoded data removed]",
      "text/plain": [
       "<Figure size 432x288 with 1 Axes>"
      ]
     },
     "metadata": {
      "needs_background": "light"
     },
     "output_type": "display_data"
    }
   ],
   "source": [
    "from sklearn.metrics import roc_curve, auc\n",
    "fpr, tpr, thresholds = roc_curve(y_true, y_pred)\n",
    "print(fpr)\n",
    "print(tpr)\n",
    "print(thresholds)\n",
    "fpr2, tpr2, thresholds2 = roc_curve(y_true, y2)\n",
    "fpr3, tpr3, thresholds3 = roc_curve(y_true, y3)\n",
    "# Compute ROC curve and ROC area for each class\n",
    "roc_auc = auc(fpr, tpr)\n",
    "print(roc_auc)\n",
    "# Plot ROC curve\n",
    "plt.figure()\n",
    "plt.plot(fpr, tpr, color='darkorange', lw=2, label='ROC curve (area = %0.2f)' % roc_auc)\n",
    "plt.plot(fpr2, tpr2, color='darkgreen', lw=2, label='ROC curve of y2')\n",
    "plt.plot(fpr3, tpr3, color='yellow', lw=2, label='ROC curve of y3')\n",
    "plt.plot([0, 1], [0, 1], color='navy', lw=3, linestyle='--')\n",
    "plt.xlim([0.0, 1.0])\n",
    "plt.ylim([0.0, 1.05])\n",
    "plt.xlabel('False Positive Rate')\n",
    "plt.ylabel('True Positive Rate')\n",
    "plt.title('Receiver operating characteristic example')\n",
    "plt.legend(loc=\"lower right\")\n",
    "plt.show()"
   ]
  },
  {
   "cell_type": "markdown",
   "metadata": {
    "slideshow": {
     "slide_type": "slide"
    }
   },
   "source": [
    "# Errors, in and out of sample\n",
    "\n",
    "No matter what metric we use to evaluate the performance of a model prediction, the concept behind the evaluation is the same:\n",
    "\n",
    "$Y = \\hat{Y} + \\epsilon = f(X) + \\epsilon$\n",
    "\n",
    ", where $f(X)$ represent the prediction and $e$ is the error term. This is the theoretical form assuming that we have all possible data, $(X,Y)$. However, we nenver really know how much the data we have, $(x,y)$, can represent the complete space of data, $(X,Y)$. Mathematically speaking, what we actually have is:\n",
    "\n",
    "$Y = \\hat{Y} + e = \\hat{f}(x) + e$\n",
    "\n",
    "While all the evaluation metrics we discussed above are based on the **in-sample** error, $e$, what we really want to know is the **true-error**, $\\epsilon$."
   ]
  },
  {
   "cell_type": "markdown",
   "metadata": {
    "slideshow": {
     "slide_type": "slide"
    }
   },
   "source": [
    "# The Bias-Variance Tradeoff\n",
    "\n",
    "Assume that we sample $(x, y)$ from $(X,Y)$ many times, the expectation of $\\hat{f}(x)$ will be $f(x)$, and the expectation of $e$ should be $\\epsilon$. By combining the formulas in the previous slide, we will have:\n",
    "\n",
    "$E[e^2] = E[(Y - \\hat{f}(x))^2] = E[(f(x) + \\epsilon - \\hat{f}(x))^2] = \\dots = Bias[\\hat{f}(x)]^2 + Var[\\hat{f}(x)] + \\sigma_{\\epsilon}^2 $\n",
    "\n",
    "In plain text, the sum of squared errors is the sum of $bias$, $variance$ and the $irreducible error$.\n",
    "\n",
    "And in plain English, when your model is more accurate at the prediction results, the spread of your errors on different sample will be larger. \n",
    "\n",
    "- Reference: [Derivation of bias-variance tradeoff](https://en.wikipedia.org/wiki/Bias%E2%80%93variance_tradeoff#Derivation)"
   ]
  },
  {
   "cell_type": "markdown",
   "metadata": {
    "slideshow": {
     "slide_type": "slide"
    }
   },
   "source": [
    "# Overfitting and Underfitting\n",
    "\n",
    "The following figure clearly demonstrates the implication of bias-variance tradeoff:\n",
    "\n",
    "- **Overfitting**: if we use a more complicated model to get a lower in-smaple error, the generalizability of the model will be limited: it might give very high errors in other samples.\n",
    "\n",
    "- **Underfitting**: if we use a simple model structure, we may have high errors in the training data, but the errors for other samples might be within a similar magnitude.\n",
    "\n",
    "- Reference: [Understanding the Bias-Variance Tradeoff](https://towardsdatascience.com/understanding-the-bias-variance-tradeoff-165e6942b229)\n",
    "\n",
    "<img src='figures/bias_var_tradeoff.png' />"
   ]
  },
  {
   "cell_type": "markdown",
   "metadata": {
    "slideshow": {
     "slide_type": "slide"
    }
   },
   "source": [
    "# Model Selection\n",
    "\n",
    "The bias-variance-tradeoff shows us that mathematically we cannot find a model having both high accuracy and good generalizability at the same time. Hence, a good model should be balancing between the bias and the variance. There are many [model selection techniques](https://en.wikipedia.org/wiki/Model_selection), to list some of them:\n",
    "\n",
    "- [Akaike information criterion (AIC)](https://en.wikipedia.org/wiki/Akaike_information_criterion)\n",
    "- [Bayesian information criterion (BIC)](https://en.wikipedia.org/wiki/Bayesian_information_criterion)\n",
    "- [Stepwise regression](https://en.wikipedia.org/wiki/Stepwise_regression)\n",
    "- [Lasso regression](https://en.wikipedia.org/wiki/Lasso_(statistics))\n",
    "\n",
    "Some methods use *variable-selection* approach: compose models with diffierent combinations of independet variables and evaluate their errors and complexities; and some methods add *regularization* terms into the model to penalize overfitting. Later we will show an example using [`Lasso regression`](https://scikit-learn.org/stable/modules/generated/sklearn.linear_model.Lasso.html) with `scikit-learn`.\n",
    "\n"
   ]
  },
  {
   "cell_type": "markdown",
   "metadata": {
    "slideshow": {
     "slide_type": "slide"
    }
   },
   "source": [
    "# Cross Validation\n",
    "\n",
    "Let's recall the difference between the *in-sample* and the *generalized* errors. While the *training* process focus on minimizing the *in-sample* error, our ultimate goal is to minimize the *generalized* error, or the *true* error. \n",
    "\n",
    "How do we do that? The simplest way is to split the data into two parts: *training set* and *test set*. We train the model with the *training set*, and then evaluate its performance with the *test set*. The results from evaluating with one data split can be unstable, so we can repeat this process several times, and eventually we can approximate the *true error* from the final results.\n"
   ]
  },
  {
   "cell_type": "markdown",
   "metadata": {
    "slideshow": {
     "slide_type": "subslide"
    }
   },
   "source": [
    "[**Cross validation**](https://en.wikipedia.org/wiki/Cross-validation_(statistics)) is a systematic way to estimate the *true error* with the data we have. We split the whole dataset (of size *N*) into *k* parts, and each part is used as the *test set* while the rest *k-1* parts are used as the *training set*. After repeating *k* times, we report the averaged errors as the approximation of *true error*.\n",
    "\n",
    "<img src='figures/k-fold_cross_validation.jpg' />\n",
    "\n",
    "The figure above shows a 4-fold cross validation. A cross-validation of *k = N* is called **leave-one-out**. It's mathematically proved that the *out-of-sample error* of CV for *k > 10* is a reliable approximation of *true error*.\n"
   ]
  },
  {
   "cell_type": "markdown",
   "metadata": {
    "slideshow": {
     "slide_type": "slide"
    }
   },
   "source": [
    "# Beyond Training and Testing Split\n",
    "\n",
    "All the discussion above focuses on *finding the best parameters and hyper-parameters for a model* so that the final model can well balance between the bias and variance.\n",
    "\n",
    "What if we have multiple family of models to chose from?\n",
    "\n",
    "In practice, we will split dataset into three partitions:\n",
    "\n",
    "- training set\n",
    "- development set\n",
    "- test set\n",
    "\n",
    "The *training set* and *development set* is the same as the *training set* and *test set* in earlier context, and the *test set* here is used to evaluate all fine-tuned models in the end. \n",
    "\n"
   ]
  },
  {
   "cell_type": "markdown",
   "metadata": {
    "slideshow": {
     "slide_type": "slide"
    }
   },
   "source": [
    "Finally, let's see some concrete examples."
   ]
  }
 ],
 "metadata": {
  "celltoolbar": "Slideshow",
  "kernelspec": {
   "display_name": "Python 3",
   "language": "python",
   "name": "python3"
  },
  "language_info": {
   "codemirror_mode": {
    "name": "ipython",
    "version": 3
   },
   "file_extension": ".py",
   "mimetype": "text/x-python",
   "name": "python",
   "nbconvert_exporter": "python",
   "pygments_lexer": "ipython3",
   "version": "3.6.8"
  }
 },
 "nbformat": 4,
 "nbformat_minor": 2
}
