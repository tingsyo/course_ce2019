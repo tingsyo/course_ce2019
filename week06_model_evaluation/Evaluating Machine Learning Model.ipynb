{
 "cells": [
  {
   "cell_type": "code",
   "execution_count": 1,
   "metadata": {
    "slideshow": {
     "slide_type": "skip"
    }
   },
   "outputs": [],
   "source": [
    "%matplotlib inline\n",
    "\n",
    "import numpy as np\n",
    "import pandas as pd\n",
    "import scipy\n",
    "import matplotlib.pyplot as plt"
   ]
  },
  {
   "cell_type": "markdown",
   "metadata": {
    "slideshow": {
     "slide_type": "slide"
    }
   },
   "source": [
    "# Evaluating Statistical Models\n",
    "\n",
    "\n",
    "So far we have introduced a few statistical (machine learning) models and some performance metrics. From working on the preactical projects, you must have discovered that there are so many aspects of a statistical model that it's hard to compare between different models, as well as the choice of hyper-parameters among a family of model.\n",
    "\n",
    "In this module, we are going to discuss a few aspects of how to evaluate statistical models. We will start from some commonly used performance metrics, estimating the performance on future data, and some meta framework for model evaluation."
   ]
  },
  {
   "cell_type": "markdown",
   "metadata": {
    "slideshow": {
     "slide_type": "slide"
    }
   },
   "source": [
    "# Outline\n",
    "---\n",
    "\n",
    "- What do Statistical Models Do\n",
    "- Performance metrics\n",
    "- Errors, in and out of sample \n",
    "- Bias-Variance Tradeoff\n",
    "- Overfitting and model selection\n",
    "- Cross-validation\n",
    "\n"
   ]
  },
  {
   "cell_type": "markdown",
   "metadata": {
    "slideshow": {
     "slide_type": "slide"
    }
   },
   "source": [
    "# What do Statistical Models Do?\n",
    "\n",
    "There are (at least) three levels at which we can use statistical models in data analysis: \n",
    "\n",
    "- as *summaries of the data*, \n",
    "- as *predictors*, and \n",
    "- as *simulators*. "
   ]
  },
  {
   "cell_type": "markdown",
   "metadata": {
    "slideshow": {
     "slide_type": "slide"
    }
   },
   "source": [
    "# Data Summarization\n",
    "\n",
    "Like most descriptive statistics, a statistical model can summarize the data with a set of *parameters*. This can be the lowest and least demanding level usage of a statistical model, which is for **data reduction**, or **compression**. Instead of remembering all the data points on a scatter-plot, say, we’d just remember what the mean and variance of them.\n",
    "\n",
    "The summary can be in the form of a theoretical distribution (*parametric*) or empirical functions(*non-parametric*)."
   ]
  },
  {
   "cell_type": "code",
   "execution_count": 3,
   "metadata": {
    "slideshow": {
     "slide_type": "skip"
    }
   },
   "outputs": [],
   "source": [
    "# Generate dataset\n",
    "data = np.random.normal(100, 15, 500)\n",
    "# Calculate statistics\n",
    "mu = data.mean()\n",
    "sigma = data.std()\n",
    "# Calculate PDF from data\n",
    "x = np.linspace(mu - 3*sigma, mu + 3*sigma, 50)\n",
    "h = np.histogram(data, bins=x)\n",
    "# Plot\n",
    "#print(mu)\n",
    "#print(sigma)"
   ]
  },
  {
   "cell_type": "code",
   "execution_count": 4,
   "metadata": {
    "slideshow": {
     "slide_type": "subslide"
    }
   },
   "outputs": [
    {
     "data": {
      "image/png": "[encoded data removed]",
      "text/plain": [
       "<Figure size 432x288 with 1 Axes>"
      ]
     },
     "metadata": {
      "needs_background": "light"
     },
     "output_type": "display_data"
    }
   ],
   "source": [
    "fig, ax = plt.subplots()\n",
    "n, hx, patches = ax.hist(data, bins=x, density=1)\n",
    "# Calculate PDF from Gaussian distribution\n",
    "import scipy.stats as stats\n",
    "y = stats.norm.pdf(hx, mu, sigma)\n",
    "ax.plot(hx, y, '--')\n",
    "plt.tight_layout()\n",
    "plt.show()"
   ]
  },
  {
   "cell_type": "markdown",
   "metadata": {
    "slideshow": {
     "slide_type": "slide"
    }
   },
   "source": [
    "# Prediction\n",
    "\n",
    "The most well-known usage of machine learning models is **using statistical models for prediction**. Once we formed the knowledge of the joint distribution of our data, we can predict variables described by the model.\n",
    "\n",
    "Most **evaluation** techniques are designed based on the performance of predictions. \n",
    "\n"
   ]
  },
  {
   "cell_type": "markdown",
   "metadata": {
    "slideshow": {
     "slide_type": "slide"
    }
   },
   "source": [
    "# Simulation\n",
    "\n",
    "Once the parameters of the statistical models are learned from the data, we can use the model to *generate / simulate* new data. If we train our model with the *Bayesian* approach, then *simulation* is inluded in the learning process. Due to the success of deep convolutional neural network, the generative statistical models are now widely applied to generate digital contents, such as [GPT-2](https://openai.com/blog/better-language-models/), [MuseNet](https://openai.com/blog/musenet/), and [Deepfake](https://en.wikipedia.org/wiki/Deepfake).\n",
    "\n",
    "<img src=\"https://cdn.vox-cdn.com/thumbor/nKhCSXmFymvUPS8Rf1NuMcSFAZQ=/800x0/filters:no_upscale()/cdn.vox-cdn.com/uploads/chorus_asset/file/16226452/dali.gif\" height=\"200\"/>"
   ]
  },
  {
   "cell_type": "markdown",
   "metadata": {
    "slideshow": {
     "slide_type": "slide"
    }
   },
   "source": [
    "# Common Performance Metrics for Classification\n",
    "\n",
    "- Confusion matrix\n",
    "  - Accuracy\n",
    "  - Precision\n",
    "  - Recall\n",
    "  - Specificity\n",
    "  - F1 score\n",
    "- Precision-Recall or PR curve\n",
    "- ROC (Receiver Operating Characteristics) curve\n",
    "- PR vs ROC curve.\n"
   ]
  },
  {
   "cell_type": "markdown",
   "metadata": {
    "slideshow": {
     "slide_type": "slide"
    }
   },
   "source": [
    "# Confusion Matrix\n",
    "\n",
    "In statistical classification, a confusion matrix, also known as an error matrix, is a specific table layout that allows visualization of the performance of an algorithm, typically a supervised learning one.\n",
    "\n",
    "<img src='figures/confusion_matrix.png' />\n",
    "\n",
    "Many metrics can be derived from this confusion metrics, and [the wikipedia entry](https://en.wikipedia.org/wiki/Confusion_matrix) has a complete list of them."
   ]
  },
  {
   "cell_type": "markdown",
   "metadata": {
    "slideshow": {
     "slide_type": "slide"
    }
   },
   "source": [
    "# Accuracy, Precision, Recall, and F-1\n",
    "\n",
    "- **Accuracy**: the probability of being correct.\n",
    "- **Precision**: the probability of being correct when predicting true.\n",
    "- **Recall**: the probability of being correct when actually true.\n",
    "- **F-1 socre**: the harmonic mean of **precision** and **recall**, a balanced measure."
   ]
  },
  {
   "cell_type": "markdown",
   "metadata": {
    "slideshow": {
     "slide_type": "slide"
    }
   },
   "source": [
    "# ROC  (Receiver Operating Characteristics) Curve\n",
    "\n",
    "A receiver operating characteristic curve, or ROC curve, is a graphical plot that illustrates the diagnostic ability of a binary classifier system as its discrimination threshold is varied.\n",
    "\n",
    "The ROC curve is created by plotting the true positive rate (TPR) against the false positive rate (FPR) at various threshold settings. The true-positive rate is also known as sensitivity, recall or probability of detection in machine learning.\n",
    "\n",
    "<img src='https://upload.wikimedia.org/wikipedia/commons/6/6b/Roccurves.png' />"
   ]
  },
  {
   "cell_type": "markdown",
   "metadata": {
    "slideshow": {
     "slide_type": "slide"
    }
   },
   "source": [
    "# Metrics for Regression problems\n",
    "\n",
    "- RMSE (Root Mean Squared Error)\n",
    "- $R^2$"
   ]
  },
  {
   "cell_type": "markdown",
   "metadata": {
    "slideshow": {
     "slide_type": "slide"
    }
   },
   "source": [
    "# Deriving Performance Metrics in Practice\n",
    "\n",
    "The package [`scikit-learn`](https://scikit-learn.org/stable/modules/model_evaluation.html) provides a thourough list of performance metrics, so that it's rather easy to use in practice. Let's see some examples."
   ]
  },
  {
   "cell_type": "markdown",
   "metadata": {
    "slideshow": {
     "slide_type": "slide"
    }
   },
   "source": [
    "# [Understanding the Bias-Variance Tradeoff](https://towardsdatascience.com/understanding-the-bias-variance-tradeoff-165e6942b229)\n",
    "\n"
   ]
  },
  {
   "cell_type": "markdown",
   "metadata": {
    "slideshow": {
     "slide_type": "slide"
    }
   },
   "source": [
    "# Errors, in and out of sample"
   ]
  },
  {
   "cell_type": "code",
   "execution_count": null,
   "metadata": {},
   "outputs": [],
   "source": []
  }
 ],
 "metadata": {
  "celltoolbar": "Slideshow",
  "kernelspec": {
   "display_name": "Python 3",
   "language": "python",
   "name": "python3"
  },
  "language_info": {
   "codemirror_mode": {
    "name": "ipython",
    "version": 3
   },
   "file_extension": ".py",
   "mimetype": "text/x-python",
   "name": "python",
   "nbconvert_exporter": "python",
   "pygments_lexer": "ipython3",
   "version": "3.6.8"
  }
 },
 "nbformat": 4,
 "nbformat_minor": 2
}
