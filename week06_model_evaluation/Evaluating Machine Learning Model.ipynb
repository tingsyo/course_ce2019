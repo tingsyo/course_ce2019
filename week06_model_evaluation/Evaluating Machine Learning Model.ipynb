{
 "cells": [
  {
   "cell_type": "code",
   "execution_count": 1,
   "metadata": {
    "slideshow": {
     "slide_type": "skip"
    }
   },
   "outputs": [],
   "source": [
    "%matplotlib inline\n",
    "\n",
    "import numpy as np\n",
    "import pandas as pd\n",
    "import scipy\n",
    "import matplotlib.pyplot as plt"
   ]
  },
  {
   "cell_type": "markdown",
   "metadata": {
    "slideshow": {
     "slide_type": "slide"
    }
   },
   "source": [
    "# Evaluating Statistical Models\n",
    "\n",
    "\n",
    "So far we have introduced a few statistical (machine learning) models and some performance metrics. From working on the preactical projects, you must have discovered that there are so many aspects of a statistical model that it's hard to compare between different models, as well as the choice of hyper-parameters among a family of model.\n",
    "\n",
    "In this module, we are going to discuss a few aspects of how to evaluate statistical models. We will start from some commonly used performance metrics, estimating the performance on future data, and some meta framework for model evaluation."
   ]
  },
  {
   "cell_type": "markdown",
   "metadata": {
    "slideshow": {
     "slide_type": "slide"
    }
   },
   "source": [
    "# Outline\n",
    "---\n",
    "\n",
    "- What do Statistical Models Do\n",
    "- Performance metrics\n",
    "- Errors, in and out of sample \n",
    "- Bias-Variance Tradeoff\n",
    "- Overfitting and model selection\n",
    "- Cross-validation\n",
    "\n"
   ]
  },
  {
   "cell_type": "markdown",
   "metadata": {
    "slideshow": {
     "slide_type": "slide"
    }
   },
   "source": [
    "# What do Statistical Models Do?\n",
    "\n",
    "There are (at least) three levels at which we can use statistical models in data analysis: \n",
    "\n",
    "- as *summaries of the data*, \n",
    "- as *predictors*, and \n",
    "- as *simulators*. "
   ]
  },
  {
   "cell_type": "markdown",
   "metadata": {
    "slideshow": {
     "slide_type": "slide"
    }
   },
   "source": [
    "# Data Summarization\n",
    "\n",
    "Like most descriptive statistics, a statistical model can summarize the data with a set of *parameters*. This can be the lowest and least demanding level usage of a statistical model, which is for **data reduction**, or **compression**. Instead of remembering all the data points on a scatter-plot, say, we’d just remember what the mean and variance of them.\n",
    "\n",
    "The summary can be in the form of a theoretical distribution (*parametric*) or empirical functions(*non-parametric*)."
   ]
  },
  {
   "cell_type": "code",
   "execution_count": 2,
   "metadata": {
    "slideshow": {
     "slide_type": "skip"
    }
   },
   "outputs": [],
   "source": [
    "# Generate dataset\n",
    "data = np.random.normal(100, 15, 500)\n",
    "# Calculate statistics\n",
    "mu = data.mean()\n",
    "sigma = data.std()\n",
    "# Calculate PDF from data\n",
    "x = np.linspace(mu - 3*sigma, mu + 3*sigma, 50)\n",
    "h = np.histogram(data, bins=x)\n",
    "# Plot\n",
    "#print(mu)\n",
    "#print(sigma)"
   ]
  },
  {
   "cell_type": "code",
   "execution_count": 3,
   "metadata": {
    "slideshow": {
     "slide_type": "subslide"
    }
   },
   "outputs": [
    {
     "data": {
      "image/png": "[encoded data removed]",
      "text/plain": [
       "<Figure size 432x288 with 1 Axes>"
      ]
     },
     "metadata": {
      "needs_background": "light"
     },
     "output_type": "display_data"
    }
   ],
   "source": [
    "fig, ax = plt.subplots()\n",
    "n, hx, patches = ax.hist(data, bins=x, density=1)\n",
    "# Calculate PDF from Gaussian distribution\n",
    "import scipy.stats as stats\n",
    "y = stats.norm.pdf(hx, mu, sigma)\n",
    "ax.plot(hx, y, '--')\n",
    "plt.tight_layout()\n",
    "plt.show()"
   ]
  },
  {
   "cell_type": "markdown",
   "metadata": {
    "slideshow": {
     "slide_type": "slide"
    }
   },
   "source": [
    "# Prediction\n",
    "\n",
    "The most well-known usage of machine learning models is **using statistical models for prediction**. Once we formed the knowledge of the joint distribution of our data, we can predict variables described by the model.\n",
    "\n",
    "Most **evaluation** techniques are designed based on the performance of predictions. \n",
    "\n"
   ]
  },
  {
   "cell_type": "markdown",
   "metadata": {
    "slideshow": {
     "slide_type": "slide"
    }
   },
   "source": [
    "# Simulation\n",
    "\n",
    "Once the parameters of the statistical models are learned from the data, we can use the model to *generate / simulate* new data. If we train our model with the *Bayesian* approach, then *simulation* is inluded in the learning process. Due to the success of deep convolutional neural network, the generative statistical models are now widely applied to generate digital contents, such as [GPT-2](https://openai.com/blog/better-language-models/), [MuseNet](https://openai.com/blog/musenet/), and [Deepfake](https://en.wikipedia.org/wiki/Deepfake).\n",
    "\n",
    "<img src=\"https://cdn.vox-cdn.com/thumbor/nKhCSXmFymvUPS8Rf1NuMcSFAZQ=/800x0/filters:no_upscale()/cdn.vox-cdn.com/uploads/chorus_asset/file/16226452/dali.gif\" height=\"200\"/>"
   ]
  },
  {
   "cell_type": "markdown",
   "metadata": {
    "slideshow": {
     "slide_type": "slide"
    }
   },
   "source": [
    "# Common Performance Metrics for Classification\n",
    "\n",
    "- Confusion matrix\n",
    "  - Accuracy\n",
    "  - Precision\n",
    "  - Recall\n",
    "  - Specificity\n",
    "  - F1 score\n",
    "- Precision-Recall or PR curve\n",
    "- ROC (Receiver Operating Characteristics) curve\n",
    "- PR vs ROC curve.\n"
   ]
  },
  {
   "cell_type": "markdown",
   "metadata": {
    "slideshow": {
     "slide_type": "slide"
    }
   },
   "source": [
    "# Confusion Matrix\n",
    "\n",
    "In statistical classification, a confusion matrix, also known as an error matrix, is a specific table layout that allows visualization of the performance of an algorithm, typically a supervised learning one.\n",
    "\n",
    "<img src='figures/confusion_matrix.png' />\n",
    "\n",
    "Many metrics can be derived from this confusion metrics, and [the wikipedia entry](https://en.wikipedia.org/wiki/Confusion_matrix) has a complete list of them."
   ]
  },
  {
   "cell_type": "markdown",
   "metadata": {
    "slideshow": {
     "slide_type": "slide"
    }
   },
   "source": [
    "# Accuracy, Precision, Recall, and F-1\n",
    "\n",
    "- **Accuracy**: the probability of being correct. \n",
    "  - $\\frac{TP+TN}{TP+FP+TN+FN}$\n",
    "\n",
    "- **Precision**: the probability of being correct when predicting true. \n",
    "  - $\\frac{TP+}{TP+FP}$\n",
    "  - PPV (Positive Predictive Value)\n",
    "\n",
    "- **Recall**: the probability of being correct when actually true. \n",
    "  - $\\frac{TP+}{TP+FN}$\n",
    "  - Sensitivity, TPR (True Positive Rate)\n",
    "\n",
    "- **F-1 socre**: the harmonic mean of **precision** and **recall**, a balanced measure.\n",
    "  - $\\frac{2}{\\frac{1}{precision} + \\frac{1}{recall}} = \\frac{2*precision*recall}{precision+recall}$\n"
   ]
  },
  {
   "cell_type": "markdown",
   "metadata": {
    "slideshow": {
     "slide_type": "slide"
    }
   },
   "source": [
    "# PR (Precision-Recall) Curve\n",
    "\n",
    "<img src='figures/pr_curve.png' />"
   ]
  },
  {
   "cell_type": "markdown",
   "metadata": {
    "slideshow": {
     "slide_type": "slide"
    }
   },
   "source": [
    "# ROC  (Receiver Operating Characteristics) Curve\n",
    "\n",
    "A receiver operating characteristic curve, or ROC curve, is a graphical plot that illustrates the diagnostic ability of a binary classifier system as its discrimination threshold is varied.\n",
    "\n",
    "<img src='figures/roc_curve.png' />"
   ]
  },
  {
   "cell_type": "markdown",
   "metadata": {
    "slideshow": {
     "slide_type": "slide"
    }
   },
   "source": [
    "# Metrics for Regression problems\n",
    "\n",
    "- RMSE (Root Mean Squared Error)\n",
    "  - $\\sqrt{\\frac{1}{n} \\sum{(y_i - \\hat y_i)^2}}$\n",
    "\n",
    "\n",
    "- MAE (Mean Absolute Error)\n",
    "  - $\\frac{1}{n} \\sum{|y_i - \\hat y_i|}$\n",
    "\n",
    "\n",
    "- $R^2$, Coefficient of determination, Explained Variance\n",
    "  - $1 - SS_{res} / SS_{tot}= 1 - \\sum{(y_i - \\hat y_i)^2} / \\sum{(y_i - \\bar y)^2}$\n",
    "\n"
   ]
  },
  {
   "cell_type": "markdown",
   "metadata": {
    "slideshow": {
     "slide_type": "slide"
    }
   },
   "source": [
    "# Deriving Performance Metrics in Practice\n",
    "\n",
    "The package [`scikit-learn`](https://scikit-learn.org/stable/modules/model_evaluation.html) provides a thourough list of performance metrics, so that it's rather easy to use in practice. Let's see some examples."
   ]
  },
  {
   "cell_type": "code",
   "execution_count": 44,
   "metadata": {
    "slideshow": {
     "slide_type": "subslide"
    }
   },
   "outputs": [
    {
     "data": {
      "text/plain": [
       "array([[439,  40],\n",
       "       [ 56, 465]])"
      ]
     },
     "execution_count": 44,
     "metadata": {},
     "output_type": "execute_result"
    }
   ],
   "source": [
    "# Create data\n",
    "y_true = np.random.randint(0,2,size=1000)\n",
    "y_pred = np.copy(y_true)\n",
    "# Sample 10% of data to flip\n",
    "idx_flip = np.random.choice(range(len(y_true)), size=100)\n",
    "y_pred[idx_flip] = np.abs(y_true[idx_flip]-1)\n",
    "y2 = np.copy(y_pred)\n",
    "y2[idx_flip+1] = np.abs(y_pred[idx_flip+1]-1)\n",
    "y3 = np.copy(y2)\n",
    "y3[idx_flip+2] = np.abs(y2[idx_flip+2]-1)\n",
    "#print(idx_flip)\n",
    "#print(y_true)\n",
    "#print(y_pred)\n",
    "# Create confusion matrix\n",
    "from sklearn.metrics import confusion_matrix\n",
    "confusion_matrix(y_true, y_pred)"
   ]
  },
  {
   "cell_type": "code",
   "execution_count": 32,
   "metadata": {
    "slideshow": {
     "slide_type": "notes"
    }
   },
   "outputs": [],
   "source": [
    "from sklearn.utils.multiclass import unique_labels\n",
    "def plot_confusion_matrix(y_true, y_pred,\n",
    "                          normalize=False,\n",
    "                          title=None,\n",
    "                          cmap=plt.cm.Blues):\n",
    "    \"\"\"\n",
    "    This function prints and plots the confusion matrix.\n",
    "    Normalization can be applied by setting `normalize=True`.\n",
    "    \"\"\"\n",
    "    if not title:\n",
    "        if normalize:\n",
    "            title = 'Normalized confusion matrix'\n",
    "        else:\n",
    "            title = 'Confusion matrix, without normalization'\n",
    "\n",
    "    # Compute confusion matrix\n",
    "    cm = confusion_matrix(y_true, y_pred)\n",
    "    # Only use the labels that appear in the data\n",
    "    classes = unique_labels(y_true, y_pred)\n",
    "    if normalize:\n",
    "        cm = cm.astype('float') / cm.sum(axis=1)[:, np.newaxis]\n",
    "        print(\"Normalized confusion matrix\")\n",
    "    else:\n",
    "        print('Confusion matrix, without normalization')\n",
    "\n",
    "    print(cm)\n",
    "\n",
    "    fig, ax = plt.subplots()\n",
    "    im = ax.imshow(cm, interpolation='nearest', cmap=cmap)\n",
    "    ax.figure.colorbar(im, ax=ax)\n",
    "    # We want to show all ticks...\n",
    "    ax.set(xticks=np.arange(cm.shape[1]),\n",
    "           yticks=np.arange(cm.shape[0]),\n",
    "           # ... and label them with the respective list entries\n",
    "           xticklabels=classes, yticklabels=classes,\n",
    "           title=title,\n",
    "           ylabel='True label',\n",
    "           xlabel='Predicted label')\n",
    "\n",
    "    # Rotate the tick labels and set their alignment.\n",
    "    plt.setp(ax.get_xticklabels(), rotation=45, ha=\"right\",\n",
    "             rotation_mode=\"anchor\")\n",
    "\n",
    "    # Loop over data dimensions and create text annotations.\n",
    "    fmt = '.2f' if normalize else 'd'\n",
    "    thresh = cm.max() / 2.\n",
    "    for i in range(cm.shape[0]):\n",
    "        for j in range(cm.shape[1]):\n",
    "            ax.text(j, i, format(cm[i, j], fmt),\n",
    "                    ha=\"center\", va=\"center\",\n",
    "                    color=\"white\" if cm[i, j] > thresh else \"black\")\n",
    "    fig.tight_layout()\n",
    "    return ax"
   ]
  },
  {
   "cell_type": "code",
   "execution_count": 34,
   "metadata": {
    "slideshow": {
     "slide_type": "subslide"
    }
   },
   "outputs": [
    {
     "name": "stdout",
     "output_type": "stream",
     "text": [
      "Confusion matrix, without normalization\n",
      "[[461  47]\n",
      " [ 49 443]]\n"
     ]
    },
    {
     "data": {
      "image/png": "[encoded data removed]",
      "text/plain": [
       "<Figure size 432x288 with 2 Axes>"
      ]
     },
     "metadata": {
      "needs_background": "light"
     },
     "output_type": "display_data"
    },
    {
     "name": "stdout",
     "output_type": "stream",
     "text": [
      " Accuracy: 0.904\n",
      " Precision: 0.9040816326530612\n",
      " Recall: 0.9004065040650406\n",
      " F1 score: 0.9022403258655803\n"
     ]
    }
   ],
   "source": [
    "plot_confusion_matrix(y_true, y_pred)\n",
    "plt.show()\n",
    "from sklearn.metrics import accuracy_score, precision_score, recall_score, f1_score\n",
    "print(' Accuracy: '+ str(accuracy_score(y_true, y_pred)))\n",
    "print(' Precision: ' + str(precision_score(y_true, y_pred)))\n",
    "print(' Recall: ' + str(recall_score(y_true, y_pred)))\n",
    "print(' F1 score: ' + str(f1_score(y_true, y_pred)))"
   ]
  },
  {
   "cell_type": "code",
   "execution_count": 48,
   "metadata": {
    "slideshow": {
     "slide_type": "subslide"
    }
   },
   "outputs": [
    {
     "name": "stdout",
     "output_type": "stream",
     "text": [
      "[0.         0.08350731 1.        ]\n",
      "[0.        0.8925144 1.       ]\n",
      "[2 1 0]\n",
      "0.9045035442520607\n"
     ]
    },
    {
     "data": {
      "image/png": "[encoded data removed]",
      "text/plain": [
       "<Figure size 432x288 with 1 Axes>"
      ]
     },
     "metadata": {
      "needs_background": "light"
     },
     "output_type": "display_data"
    }
   ],
   "source": [
    "from sklearn.metrics import roc_curve, auc\n",
    "fpr, tpr, thresholds = roc_curve(y_true, y_pred)\n",
    "print(fpr)\n",
    "print(tpr)\n",
    "print(thresholds)\n",
    "fpr2, tpr2, thresholds2 = roc_curve(y_true, y2)\n",
    "fpr3, tpr3, thresholds3 = roc_curve(y_true, y3)\n",
    "# Compute ROC curve and ROC area for each class\n",
    "roc_auc = auc(fpr, tpr)\n",
    "print(roc_auc)\n",
    "# Plot ROC curve\n",
    "plt.figure()\n",
    "plt.plot(fpr, tpr, color='darkorange', lw=2, label='ROC curve (area = %0.2f)' % roc_auc)\n",
    "plt.plot(fpr2, tpr2, color='darkgreen', lw=2, label='ROC curve of y2')\n",
    "plt.plot(fpr3, tpr3, color='yellow', lw=2, label='ROC curve of y3')\n",
    "plt.plot([0, 1], [0, 1], color='navy', lw=lw, linestyle='--')\n",
    "plt.xlim([0.0, 1.0])\n",
    "plt.ylim([0.0, 1.05])\n",
    "plt.xlabel('False Positive Rate')\n",
    "plt.ylabel('True Positive Rate')\n",
    "plt.title('Receiver operating characteristic example')\n",
    "plt.legend(loc=\"lower right\")\n",
    "plt.show()"
   ]
  },
  {
   "cell_type": "markdown",
   "metadata": {
    "slideshow": {
     "slide_type": "slide"
    }
   },
   "source": [
    "# Errors, in and out of sample"
   ]
  },
  {
   "cell_type": "markdown",
   "metadata": {
    "slideshow": {
     "slide_type": "slide"
    }
   },
   "source": [
    "# [Understanding the Bias-Variance Tradeoff](https://towardsdatascience.com/understanding-the-bias-variance-tradeoff-165e6942b229)\n",
    "\n"
   ]
  },
  {
   "cell_type": "code",
   "execution_count": null,
   "metadata": {},
   "outputs": [],
   "source": []
  }
 ],
 "metadata": {
  "celltoolbar": "Slideshow",
  "kernelspec": {
   "display_name": "Python 3",
   "language": "python",
   "name": "python3"
  },
  "language_info": {
   "codemirror_mode": {
    "name": "ipython",
    "version": 3
   },
   "file_extension": ".py",
   "mimetype": "text/x-python",
   "name": "python",
   "nbconvert_exporter": "python",
   "pygments_lexer": "ipython3",
   "version": "3.6.8"
  }
 },
 "nbformat": 4,
 "nbformat_minor": 2
}
